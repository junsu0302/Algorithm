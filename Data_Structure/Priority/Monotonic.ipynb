{
 "cells": [
  {
   "cell_type": "markdown",
   "id": "5b6d16c5",
   "metadata": {},
   "source": [
    "# Monotonic\n",
    "\n",
    "단조성(Monotonic)은 값이 일정한 방향(증가 or 감소)으로만 진행되는 성질이다. 모노톤 자료구조는 단조성을 강제로 유지하여 불필요한 비교/계산을 줄이는 방식이다. \n",
    "\n",
    "- 모노톤 스택 : 한 방향으로 탐색하며, 자신보다 크거나 작은 가장 가까운 값을 빠르게 탐색\n",
    "- 모노톤 큐 : 윈도우가 이동할 때마다, 최소/최댓값을 실시간으로 빠르게 추출"
   ]
  },
  {
   "cell_type": "code",
   "execution_count": null,
   "id": "fbd35e7c",
   "metadata": {},
   "outputs": [
    {
     "name": "stdout",
     "output_type": "stream",
     "text": [
      "[4, 4, 5, 5, -1]\n"
     ]
    }
   ],
   "source": [
    "# Monotonic Stack : 다음 큰 수 찾기\n",
    "def monotonic_stack(arr):\n",
    "  stack = []\n",
    "  result = [-1 for _ in range(len(arr))]\n",
    "\n",
    "  for idx, val in enumerate(arr):\n",
    "    # 현재 값이 스택 top에 해당하는 값보다 크면 pop하여 정답 갱신\n",
    "    while stack and arr[stack[-1]] < val:\n",
    "      index = stack.pop()\n",
    "      result[index] = val\n",
    "    # 현재 인덱스를 스택에 넣음 (더 큰 값이 나올 때까지 대기)\n",
    "    stack.append(idx)\n",
    "\n",
    "  return result\n",
    "\n",
    "print(monotonic_stack([2, 1, 4, 3, 5]))"
   ]
  },
  {
   "cell_type": "code",
   "execution_count": null,
   "id": "4c43002b",
   "metadata": {},
   "outputs": [
    {
     "name": "stdout",
     "output_type": "stream",
     "text": [
      "[3, 2, 1, 1]\n"
     ]
    }
   ],
   "source": [
    "# Monoton Queue : 슬라이딩 윈도우 최소값\n",
    "from collections import deque\n",
    "\n",
    "def monotonic_queue(arr, size):\n",
    "  dequeue = deque()\n",
    "  result = []\n",
    "\n",
    "  for idx, val in enumerate(arr):\n",
    "    # 앞 : 윈도우 범위를 벗어난 인덱스 제거 (덱 크기 조절)\n",
    "    while dequeue and dequeue[0] <= idx - size:\n",
    "      dequeue.popleft()\n",
    "\n",
    "    # 뒤 : 새로운 값보다 큰 값 제거 (단조성 유지)\n",
    "    while dequeue and arr[dequeue[-1]] > val:\n",
    "      dequeue.pop()\n",
    "\n",
    "    # 인덱스 삽입\n",
    "    dequeue.append(idx)\n",
    "\n",
    "    # 윈도우 시작 지점 이상부터 정답 기록\n",
    "    if idx >= size - 1:\n",
    "      result.append(arr[dequeue[0]])\n",
    "\n",
    "  return result\n",
    "\n",
    "print(monotonic_queue([4, 3, 5, 2, 1, 6], 3))"
   ]
  },
  {
   "cell_type": "code",
   "execution_count": null,
   "id": "e0ea3ba7",
   "metadata": {},
   "outputs": [],
   "source": []
  }
 ],
 "metadata": {
  "kernelspec": {
   "display_name": "Python 3",
   "language": "python",
   "name": "python3"
  },
  "language_info": {
   "codemirror_mode": {
    "name": "ipython",
    "version": 3
   },
   "file_extension": ".py",
   "mimetype": "text/x-python",
   "name": "python",
   "nbconvert_exporter": "python",
   "pygments_lexer": "ipython3",
   "version": "3.12.9"
  }
 },
 "nbformat": 4,
 "nbformat_minor": 5
}
