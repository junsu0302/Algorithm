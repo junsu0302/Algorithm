{
 "cells": [
  {
   "cell_type": "markdown",
   "id": "8b5938e3",
   "metadata": {},
   "source": [
    "# Heap\n",
    "\n",
    "우선순위가 높은 요소를 먼저 처리할 수 있도록 구성된 자료구조. 트리 기반 구현체로 최소 힙과 최대 힙으로 나뉜다.\n",
    "- K 번쨰 수 탐색\n",
    "- 최소 비용/최대 이익 \n",
    "- 우선순위 기반 스케줄링"
   ]
  },
  {
   "cell_type": "markdown",
   "id": "bc330be9",
   "metadata": {},
   "source": [
    "```py\n",
    "import heapq\n",
    "```\n",
    "\n",
    "| 함수 | 설명 |\n",
    "| :-: | :-: |\n",
    "| heapq.heappush(heap, item) | 힙에 item 추가 |\n",
    "| heapq.heappop(heap, item) | 가장 작은 값 꺼내기 |\n",
    "| heapq.heapify(list) | 리스트를 힙으로 변환 |\n",
    "| heapq.heappushpop(heap, item) | item 추가 후 가장 작은 값 제거 |\n",
    "| heapq.heapreplace(heap, item) | 가장 작은 값 제거 후 item 추가 |\n",
    "| heapq.nsmallest(k, list, key=None) | list를 key로 정렬하여 최소 k개 리스트 |\n",
    "| heapq.nlargest(k, list, key=None) | list를 key로 정렬하여 최대 k개 리스트 |\n"
   ]
  },
  {
   "cell_type": "code",
   "execution_count": null,
   "id": "7b065bc5",
   "metadata": {},
   "outputs": [
    {
     "name": "stdout",
     "output_type": "stream",
     "text": [
      "4\n"
     ]
    }
   ],
   "source": [
    "# K번 째 수 탐색\n",
    "import heapq\n",
    "\n",
    "N = 3\n",
    "datas = [7, 1, 4, 5, 2]\n",
    "\n",
    "heap = []\n",
    "for num in datas:\n",
    "  if len(heap) < N:\n",
    "    heapq.heappush(heap, num)\n",
    "  else:\n",
    "    if num > heap[0]:\n",
    "      heapq.heappushpop(heap, num)\n",
    "\n",
    "print(heap[0])\n"
   ]
  },
  {
   "cell_type": "code",
   "execution_count": 2,
   "id": "aa623b37",
   "metadata": {},
   "outputs": [
    {
     "name": "stdout",
     "output_type": "stream",
     "text": [
      "A 선택, 비용: 1\n",
      "C 선택, 비용: 2\n",
      "B 선택, 비용: 3\n"
     ]
    }
   ],
   "source": [
    "# 최소 비용 / 최대 이익\n",
    "import heapq\n",
    "\n",
    "edges = [(1, 'A'), (3, 'B'), (2, 'C')]\n",
    "heapq.heapify(edges)\n",
    "\n",
    "while edges:\n",
    "  cost, node = heapq.heappop(edges)\n",
    "  print(f\"{node} 선택, 비용: {cost}\")"
   ]
  },
  {
   "cell_type": "code",
   "execution_count": 3,
   "id": "354524c3",
   "metadata": {},
   "outputs": [
    {
     "name": "stdout",
     "output_type": "stream",
     "text": [
      "처리: Fix bug (우선순위 1)\n",
      "처리: Attend meeting (우선순위 2)\n",
      "처리: Write report (우선순위 3)\n"
     ]
    }
   ],
   "source": [
    "# 우선순위 기반 스케줄링\n",
    "import heapq\n",
    "\n",
    "tasks = [\n",
    "  (3, \"Write report\"),\n",
    "  (1, \"Fix bug\"),\n",
    "  (2, \"Attend meeting\")\n",
    "]\n",
    "\n",
    "heapq.heapify(tasks)\n",
    "\n",
    "while tasks:\n",
    "  priority, task = heapq.heappop(tasks)\n",
    "  print(f\"처리: {task} (우선순위 {priority})\")"
   ]
  },
  {
   "cell_type": "code",
   "execution_count": 29,
   "id": "572b2b7c",
   "metadata": {},
   "outputs": [
    {
     "name": "stdout",
     "output_type": "stream",
     "text": [
      "중앙값: 1\n",
      "중앙값: 3\n",
      "중앙값: 2\n",
      "중앙값: 3\n",
      "중앙값: 5\n"
     ]
    }
   ],
   "source": [
    "import heapq\n",
    "\n",
    "class MedianStream:\n",
    "  def __init__(self):\n",
    "    self._max_heap = [] # 중앙값보다 작은 값들을 저장\n",
    "    self._min_heap = [] # 중앙값보다 큰 값들을 저장\n",
    "\n",
    "  def add(self, num: int) -> None:\n",
    "    # Step 1: 최대 힙에 삽입 (음수로)\n",
    "    heapq.heappush(self._max_heap, -num)\n",
    "\n",
    "    # Step 2: 최대 힙에서 최댓값 꺼내 최소 힙에 넣기 (값 균형 조정)\n",
    "    # 해당 과정을 통해 max_heap에는 작은값들이, min_heap에는 큰 값들이 저장\n",
    "    max_top = -heapq.heappop(self._max_heap)\n",
    "    heapq.heappush(self._min_heap, max_top)\n",
    "\n",
    "    # Step 3: 힙 크기 유지 (최대 힙이 항상 크거나 같도록)\n",
    "    # 중앙값은 max_heap에서 추출\n",
    "    if len(self._max_heap) < len(self._min_heap):\n",
    "      min_top = heapq.heappop(self._min_heap)\n",
    "      heapq.heappush(self._max_heap, -min_top)\n",
    "\n",
    "  def median(self) -> float:\n",
    "    if len(self._max_heap) > len(self._min_heap):\n",
    "      return -self._max_heap[0]\n",
    "    else:\n",
    "      return (-self._max_heap[0] + self._min_heap[0]) // 2\n",
    "  \n",
    "stream = MedianStream()\n",
    "for num in [1, 5, 2, 10, 6]:\n",
    "    stream.add(num)\n",
    "    print(\"중앙값:\", stream.median())\n"
   ]
  }
 ],
 "metadata": {
  "kernelspec": {
   "display_name": "Python 3",
   "language": "python",
   "name": "python3"
  },
  "language_info": {
   "codemirror_mode": {
    "name": "ipython",
    "version": 3
   },
   "file_extension": ".py",
   "mimetype": "text/x-python",
   "name": "python",
   "nbconvert_exporter": "python",
   "pygments_lexer": "ipython3",
   "version": "3.12.9"
  }
 },
 "nbformat": 4,
 "nbformat_minor": 5
}
