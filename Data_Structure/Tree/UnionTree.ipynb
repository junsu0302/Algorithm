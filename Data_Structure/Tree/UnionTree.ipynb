{
 "cells": [
  {
   "cell_type": "code",
   "execution_count": 1,
   "id": "d17e4f14",
   "metadata": {},
   "outputs": [],
   "source": [
    "class UnionTree:\n",
    "  def __init__(self, size):\n",
    "    self.parent = list(range(size))               # 각 노드의 부모를 저장하는 리스트 (루트 관리용)\n",
    "    self.sizes = [1 for _ in range(size)]         # 루트가 관리하는 집합의 크기 (Small-to-Large 병합용)\n",
    "    self.weights = [0 for _ in range(size)]       # 루트까지의 누적 가중치 (가중치 차이 쿼리용)\n",
    "    self.colors = [set([i]) for i in range(size)] # 각 노드가 포함된 색상 집합 (병합 시 색상 유지용)\n",
    "\n",
    "  # 루트 노드 찾기 + 경로 압축 + 누적 가중치 계산\n",
    "  def find(self, x):\n",
    "    px = self.parent[x]\n",
    "    if px != x:\n",
    "      self.parent[x] = self.find(px)       # 경로 압축: x의 부모를 직접 루트로 변경\n",
    "      self.weights[x] += self.weights[px]  # 누적 가중치 계산: x → 루트까지의 거리\n",
    "    return self.parent[x]\n",
    "\n",
    "  # 두 노드를 하나의 집합으로 병합 (가중치 포함)\n",
    "  def union(self, x, y, w=0):\n",
    "    root_x = self.find(x)\n",
    "    root_y = self.find(y)\n",
    "\n",
    "    # 이미 같은 집합에 속한 경우 → 병합 불필요\n",
    "    if root_x == root_y:\n",
    "      return\n",
    "\n",
    "    # root_x 집합의 크기가 작을 경우 → swap (Small to Large)\n",
    "    # 목적: 항상 작은 집합을 큰 집합에 병합 (시간 최적화)\n",
    "    if self.sizes[root_x] < self.sizes[root_y]:\n",
    "      root_x, root_y = root_y, root_x\n",
    "      w = -w\n",
    "\n",
    "    # 병합 수행\n",
    "    self.parent[root_y] = root_x\n",
    "    self.weights[root_y] = self.weights[x] - self.weights[y] + w\n",
    "    self.sizes[root_x] += self.sizes[root_y]\n",
    "\n",
    "    # 색상 정보 병합: 루트 x에 색상 통합\n",
    "    self.colors[root_x].update(self.colors[root_y])\n",
    "    self.colors[root_y].clear()\n",
    "\n",
    "  # 두 노드 간의 누적 가중치 차이 계산\n",
    "  def get_weight_diff(self, x, y):\n",
    "    if self.find(x) != self.find(y):\n",
    "      return \"Not connected\"\n",
    "    return self.weights[y] - self.weights[x]\n",
    "\n",
    "  # 특정 노드가 속한 집합의 색상 목록 반환\n",
    "  def get_colors(self, x):\n",
    "    return self.colors[self.find(x)]\n",
    "\n",
    "  # 디버깅 용도로 전체 구조 출력\n",
    "  def get_structure(self):\n",
    "    print(\"Node | Parent | Size | Weight | Colors\")\n",
    "    for i in range(len(self.parent)):\n",
    "      print(f\"{i:4} | {self.parent[i]:6} | {self.sizes[i]:4} | {self.weights[i]:6} | {sorted(self.colors[i])}\")\n"
   ]
  },
  {
   "cell_type": "code",
   "execution_count": 2,
   "id": "db1c7cd8",
   "metadata": {},
   "outputs": [
    {
     "name": "stdout",
     "output_type": "stream",
     "text": [
      "색상 (노드 3 기준): {0, 1, 2, 3}\n",
      "가중치 차이 (0 → 3): 9\n",
      "Node | Parent | Size | Weight | Colors\n",
      "   0 |      0 |    4 |      0 | [0, 1, 2, 3]\n",
      "   1 |      0 |    1 |      2 | []\n",
      "   2 |      0 |    2 |      5 | []\n",
      "   3 |      0 |    1 |      9 | []\n",
      "   4 |      4 |    1 |      0 | [4]\n",
      "   5 |      5 |    1 |      0 | [5]\n"
     ]
    }
   ],
   "source": [
    "# 노드 개수: 6\n",
    "ut = UnionTree(6)\n",
    "\n",
    "# 0 - 1 연결 (가중치 2)\n",
    "ut.union(0, 1, 2)\n",
    "\n",
    "# 2 - 3 연결 (가중치 4)\n",
    "ut.union(2, 3, 4)\n",
    "\n",
    "# 1 - 2 연결 (가중치 3) → 이제 0-1-2-3 모두 같은 집합\n",
    "ut.union(1, 2, 3)\n",
    "\n",
    "# 색상 확인\n",
    "print(\"색상 (노드 3 기준):\", ut.get_colors(3))  # → {0, 1, 2, 3}\n",
    "\n",
    "# 가중치 차이 확인\n",
    "print(\"가중치 차이 (0 → 3):\", ut.get_weight_diff(0, 3))  # 0→1(2) + 1→2(3) + 2→3(4) = 9\n",
    "\n",
    "# 구조 출력\n",
    "ut.get_structure()\n"
   ]
  }
 ],
 "metadata": {
  "kernelspec": {
   "display_name": "Python 3",
   "language": "python",
   "name": "python3"
  },
  "language_info": {
   "codemirror_mode": {
    "name": "ipython",
    "version": 3
   },
   "file_extension": ".py",
   "mimetype": "text/x-python",
   "name": "python",
   "nbconvert_exporter": "python",
   "pygments_lexer": "ipython3",
   "version": "3.12.9"
  }
 },
 "nbformat": 4,
 "nbformat_minor": 5
}
