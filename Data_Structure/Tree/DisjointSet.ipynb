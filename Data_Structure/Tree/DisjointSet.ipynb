{
 "cells": [
  {
   "cell_type": "markdown",
   "id": "2646ff25",
   "metadata": {},
   "source": [
    "# 유니온 파인드\n",
    "\n",
    "서로서(Disjoint) 집합을 효율적으로 관리하는 자료구조이다. 대표 노드를 기준으로 집합을 관리하며, 각 원소가 어느 집합에 속하는지를 빠르게 판별한다. 트리 구조로 관리하며, 집합 간 합치기(Union)와 대표 찾기(Find)를 반복적으로 수행한다."
   ]
  },
  {
   "cell_type": "code",
   "execution_count": 1,
   "id": "9d855836",
   "metadata": {},
   "outputs": [],
   "source": [
    "class DisjointSet:\n",
    "  def __init__(self):\n",
    "    self.parent = {}\n",
    "    self.rank = {}\n",
    "\n",
    "  # 새로운 원소 추가\n",
    "  def make_set(self, x):\n",
    "    if x not in self.parent:\n",
    "      self.parent[x] = x\n",
    "      self.rank[x] = 0\n",
    "\n",
    "  # 루트 노드 탐색 : 경로 압축으로 빠르게 루트 노드 탐색\n",
    "  def find(self, x):\n",
    "    if self.parent[x] != x:\n",
    "      self.parent[x] = self.find(self.parent[x])\n",
    "    return self.parent[x]\n",
    "\n",
    "  # 두 집합을 병합 : 랭크 기반 최적화\n",
    "  def union(self, x, y):\n",
    "    root_x = self.find(x)\n",
    "    root_y = self.find(y)\n",
    "\n",
    "    # 이미 같은 집합\n",
    "    if root_x == root_y:\n",
    "      return\n",
    "\n",
    "    # 랭크가 낮은 쪽을 높은 쪽으로 붙임\n",
    "    if self.rank[root_x] < self.rank[root_y]:\n",
    "      self.parent[root_x] = root_y\n",
    "    else:\n",
    "      self.parent[root_y] = root_x\n",
    "      if self.rank[root_x] == self.rank[root_y]:\n",
    "        self.rank[root_x] += 1\n",
    "\n",
    "  # 같은 집합인지 확인\n",
    "  def is_connected(self, x, y):\n",
    "    return self.find(x) == self.find(y)\n",
    "\n",
    "  # 전체 집합 그룹 리스트 반환\n",
    "  def get_groups(self):\n",
    "    groups = {}\n",
    "    for element in self.parent:\n",
    "      root = self.find(element)\n",
    "      if root not in groups:\n",
    "        groups[root] = []\n",
    "      groups[root].append(element)\n",
    "    return list(groups.values())"
   ]
  },
  {
   "cell_type": "code",
   "execution_count": 2,
   "id": "c0216056",
   "metadata": {},
   "outputs": [
    {
     "name": "stdout",
     "output_type": "stream",
     "text": [
      "True\n",
      "False\n",
      "[[1, 2, 3], [4, 5], [6, 7]]\n"
     ]
    }
   ],
   "source": [
    "ds = DisjointSet()\n",
    "\n",
    "for i in range(1, 8):\n",
    "    ds.make_set(i)\n",
    "\n",
    "ds.union(1, 2)\n",
    "ds.union(2, 3)\n",
    "ds.union(4, 5)\n",
    "ds.union(6, 7)\n",
    "\n",
    "print(ds.is_connected(1, 3))  # True\n",
    "print(ds.is_connected(3, 4))  # False\n",
    "\n",
    "print(ds.get_groups())\n",
    "# 출력 예시: [[1, 2, 3], [4, 5], [6, 7]]\n"
   ]
  }
 ],
 "metadata": {
  "kernelspec": {
   "display_name": "Python 3",
   "language": "python",
   "name": "python3"
  },
  "language_info": {
   "codemirror_mode": {
    "name": "ipython",
    "version": 3
   },
   "file_extension": ".py",
   "mimetype": "text/x-python",
   "name": "python",
   "nbconvert_exporter": "python",
   "pygments_lexer": "ipython3",
   "version": "3.12.9"
  }
 },
 "nbformat": 4,
 "nbformat_minor": 5
}
