{
 "cells": [
  {
   "cell_type": "markdown",
   "id": "fd6d739d",
   "metadata": {},
   "source": [
    "# 이분적 유니온 파인드\n",
    "\n",
    "노드 가의 관계가 2가지 상태만 있는 경우 빠르게 상태를 기준으로 나누는 자료구조"
   ]
  },
  {
   "cell_type": "code",
   "execution_count": 1,
   "id": "61f1dee1",
   "metadata": {},
   "outputs": [],
   "source": [
    "# 이분적 관계를 처리하는 Union-Find 클래스\n",
    "# 각 노드는 루트와의 group(동일/반대 관계)를 유지하며 병합됨\n",
    "from collections import defaultdict\n",
    "\n",
    "class BipartiteUF:\n",
    "  def __init__(self, size):\n",
    "    self.parent = list(range(size))       # 각 노드의 대표(루트) 노드\n",
    "    self.group = [0 for _ in range(size)] # 루트와의 관계 (0: 동일 그룹, 1: 반대 그룹)\n",
    "    self.size = [1 for _ in range(size)]  # 루트가 관리하는 집합의 크기 (Small-to-Large 병합용)\n",
    "\n",
    "  # 루트 노드를 찾고, 경로 압축과 group 갱신을 동시에 수행\n",
    "  def find(self, x):\n",
    "    px = self.parent[x]\n",
    "    if px != x:\n",
    "      self.parent[x] = self.find(px)  # 경로 압축: x의 부모를 루트로 설정\n",
    "      self.group[x] ^= self.group[px] # group 갱신: x → 루트까지의 반대 관계 누적\n",
    "    return self.parent[x]\n",
    "\n",
    "  # x와 y를 같은 집합으로 병합 (is_enemy: 0 → 친구, 1 → 원수)\n",
    "  def union(self, x, y, is_enemy):\n",
    "    root_x = self.find(x)\n",
    "    root_y = self.find(y)\n",
    "\n",
    "    # 이미 같은 집합일 경우 → 현재 group와 원하는 관계가 충돌하는지 확인\n",
    "    if root_x == root_y:\n",
    "      return (self.group[x] ^ self.group[y]) == is_enemy\n",
    "\n",
    "    # 작은 집합을 큰 집합에 병합 (Small-to-Large 최적화)\n",
    "    if self.size[root_x] < self.size[root_y]:\n",
    "      root_x, root_y = root_y, root_x\n",
    "      x, y = y, x\n",
    "\n",
    "    # 병합 수행: XOR을 통한 이분 관계 표현\n",
    "    self.parent[root_y] = root_x\n",
    "    self.group[root_y] = self.group[x] ^ self.group[y] ^ is_enemy\n",
    "    self.size[root_x] += self.size[root_y]\n",
    "    return True\n",
    "\n",
    "  # 두 노드가 같은 집합에 속하는지 여부 (관계 무시)\n",
    "  def is_connected(self, x, y):\n",
    "    return self.find(x) == self.find(y)\n",
    "\n",
    "  # 두 노드가 같은 그룹(동일 집합 + group 동일)인지 여부\n",
    "  def is_same_group(self, x, y):\n",
    "    if self.is_connected(x, y):\n",
    "      return (self.group[x] ^ self.group[y]) == 0\n",
    "  \n",
    "  # 2개의 그룹에 대한 정보 (각 크기, 각 소속 원소)\n",
    "  def print_group_info(self):\n",
    "    info = defaultdict(lambda: {0: [], 1: []})\n",
    "\n",
    "    for node in range(len(self.parent)):\n",
    "      root = self.find(node)\n",
    "      g = self.group[node]\n",
    "      info[root][g].append(node)\n",
    "\n",
    "    print(\"=== Group Info by Component ===\")\n",
    "    for root, groups in info.items():\n",
    "      print(f'Component Root: {root}')\n",
    "      print(f'  Group 0 (same as root): {groups[0]}')\n",
    "      print(f'  Group 1 (opposite):     {groups[1]}')\n",
    "      print()\n",
    "\n"
   ]
  },
  {
   "cell_type": "code",
   "execution_count": 2,
   "id": "8ebaadd4",
   "metadata": {},
   "outputs": [
    {
     "name": "stdout",
     "output_type": "stream",
     "text": [
      "=== Group Info by Component ===\n",
      "Component Root: 0\n",
      "  Group 0 (same as root): [0, 1, 4, 5]\n",
      "  Group 1 (opposite):     [2, 3]\n",
      "\n",
      "Component Root: 6\n",
      "  Group 0 (same as root): [6]\n",
      "  Group 1 (opposite):     []\n",
      "\n",
      "Component Root: 7\n",
      "  Group 0 (same as root): [7]\n",
      "  Group 1 (opposite):     []\n",
      "\n"
     ]
    }
   ],
   "source": [
    "uf = BipartiteUF(8)\n",
    "\n",
    "# 친구 관계\n",
    "uf.union(0, 1, 0)  # 0과 1은 친구 → 같은 그룹\n",
    "uf.union(2, 3, 0)  # 2와 3은 친구 → 같은 그룹\n",
    "uf.union(4, 5, 0)  # 4와 5는 친구 → 같은 그룹\n",
    "\n",
    "# 원수 관계\n",
    "uf.union(1, 2, 1)  # 1과 2는 원수 → 0,1과 2,3은 반대 그룹\n",
    "uf.union(3, 4, 1)  # 3과 4는 원수 → 2,3과 4,5는 반대 그룹\n",
    "\n",
    "# 그룹 정보 출력\n",
    "uf.print_group_info()"
   ]
  }
 ],
 "metadata": {
  "kernelspec": {
   "display_name": "Python 3",
   "language": "python",
   "name": "python3"
  },
  "language_info": {
   "codemirror_mode": {
    "name": "ipython",
    "version": 3
   },
   "file_extension": ".py",
   "mimetype": "text/x-python",
   "name": "python",
   "nbconvert_exporter": "python",
   "pygments_lexer": "ipython3",
   "version": "3.12.9"
  }
 },
 "nbformat": 4,
 "nbformat_minor": 5
}
