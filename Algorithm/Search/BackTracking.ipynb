{
 "cells": [
  {
   "cell_type": "markdown",
   "id": "e66556da",
   "metadata": {},
   "source": [
    "# BackTracking\n",
    "\n",
    "후보 해를 구성하면서 조건을 만족하지 않으면 더 이상 탐색하지 않고 되돌악다는 방식의 완젼 탐색 기법이다.\n",
    "\n",
    "_브루트포스 + 가지치기(종료 조건)_\n",
    "\n",
    "- 순열 / 조합 / 중복 순열 / 중복 조합\n",
    "- 부분 집합\n",
    "- N-Queen\n",
    "- 괄호 생성 / 연산자 삽입\n",
    "- 사전 순 문자열 조합\n",
    "- 그래프 경로 탐색\n",
    "- 조건 만족 조합\n",
    "- 스도쿠 / 퍼즐\n",
    "\n",
    "```py\n",
    "def backtrack(상태):\n",
    "  if 종료 조건:\n",
    "    정답 저장\n",
    "    return\n",
    "\n",
    "  for 선택지 in 가능한 선택들:\n",
    "    if 조건을 만족하는 선택지:\n",
    "      선택 수행\n",
    "      backtrack(다음 상태)\n",
    "      선택 취소 (되돌리기)\n",
    "```"
   ]
  },
  {
   "cell_type": "code",
   "execution_count": 17,
   "id": "8cddd9fe",
   "metadata": {},
   "outputs": [
    {
     "name": "stdout",
     "output_type": "stream",
     "text": [
      "1 2\n",
      "1 3\n",
      "2 1\n",
      "2 3\n",
      "3 1\n",
      "3 2\n"
     ]
    }
   ],
   "source": [
    "# 순열 (중복 X, 순서 O)\n",
    "\"\"\"\n",
    "from itertools import permutations\n",
    "\n",
    "for p in permutations(range(1, N+1), M):\n",
    "  print(' '.join(str(n) for n in p))\n",
    "\"\"\"\n",
    "\n",
    "def permute(N, M, path, used):\n",
    "  if len(path) == M:\n",
    "    print(' '.join(str(n) for n in path))\n",
    "    return\n",
    "\n",
    "  for i in range(1, N+1):\n",
    "    if i not in used:\n",
    "      path.append(i)\n",
    "      used.add(i)\n",
    "      permute(N, M, path, used)\n",
    "      path.pop()\n",
    "      used.remove(i)\n",
    "\n",
    "N, M = 3, 2\n",
    "permute(N, M, [], set())"
   ]
  },
  {
   "cell_type": "code",
   "execution_count": 20,
   "id": "a12cd524",
   "metadata": {},
   "outputs": [
    {
     "name": "stdout",
     "output_type": "stream",
     "text": [
      "1 2\n",
      "1 3\n",
      "2 3\n"
     ]
    }
   ],
   "source": [
    "# 조합 (중복 X, 순서 X)\n",
    "\"\"\"\n",
    "from itertools import combinations\n",
    "\n",
    "for c in combinations(range(1, N+1), M):\n",
    "  print(' '.join(str(n) for n in c))\n",
    "\"\"\"\n",
    "\n",
    "def combine(N, M, start, path):\n",
    "  if len(path) == M:\n",
    "    print(' '.join(str(n) for n in path))\n",
    "    return\n",
    "  \n",
    "  for i in range(start, N+1):\n",
    "    path.append(i)\n",
    "    combine(N, M, i+1, path)\n",
    "    path.pop()\n",
    "\n",
    "N, M = 3, 2\n",
    "combine(N, M, 1, [])"
   ]
  },
  {
   "cell_type": "code",
   "execution_count": 21,
   "id": "dafa813e",
   "metadata": {},
   "outputs": [
    {
     "name": "stdout",
     "output_type": "stream",
     "text": [
      "1 1\n",
      "1 2\n",
      "1 3\n",
      "2 1\n",
      "2 2\n",
      "2 3\n",
      "3 1\n",
      "3 2\n",
      "3 3\n"
     ]
    }
   ],
   "source": [
    "# 중복 순열 (중복 O, 순서O)\n",
    "def product(N, M ,path):\n",
    "  if len(path) == M:\n",
    "    print(' '.join(str(n) for n in path))\n",
    "    return\n",
    "  \n",
    "  for i in range(1, N+1):\n",
    "    path.append(i)\n",
    "    product(N, M, path)\n",
    "    path.pop()\n",
    "\n",
    "N, M = 3, 2\n",
    "product(N, M, [])    "
   ]
  },
  {
   "cell_type": "code",
   "execution_count": 22,
   "id": "a355e3b6",
   "metadata": {},
   "outputs": [
    {
     "name": "stdout",
     "output_type": "stream",
     "text": [
      "1 1\n",
      "1 2\n",
      "1 3\n",
      "2 2\n",
      "2 3\n",
      "3 3\n"
     ]
    }
   ],
   "source": [
    "# 중복 조합 (중복 O, 순서 X)\n",
    "def comb_with_replacement(N, M, start, path):\n",
    "  if len(path) == M:\n",
    "    print(' '.join(str(n) for n in path))\n",
    "    return\n",
    "  \n",
    "  for i in range(start, N+1):\n",
    "    path.append(i)\n",
    "    comb_with_replacement(N, M, i, path)\n",
    "    path.pop()\n",
    "\n",
    "N, M = 3, 2\n",
    "comb_with_replacement(N, M, 1, [])"
   ]
  },
  {
   "cell_type": "code",
   "execution_count": 23,
   "id": "3fb78f2f",
   "metadata": {},
   "outputs": [
    {
     "name": "stdout",
     "output_type": "stream",
     "text": [
      "[1, 2, 3]\n",
      "[1, 2]\n",
      "[1, 3]\n",
      "[1]\n",
      "[2, 3]\n",
      "[2]\n",
      "[3]\n",
      "[]\n"
     ]
    }
   ],
   "source": [
    "# 부분 집합\n",
    "def subset(path, i):\n",
    "  if i > 3:\n",
    "    print(path)\n",
    "    return\n",
    "  \n",
    "  subset(path + [i], i+1)\n",
    "  subset(path, i+1)\n",
    "\n",
    "subset([], 1)"
   ]
  },
  {
   "cell_type": "code",
   "execution_count": 28,
   "id": "5e7ecf6f",
   "metadata": {},
   "outputs": [
    {
     "name": "stdout",
     "output_type": "stream",
     "text": [
      "[1, 3, 0, 2]\n",
      "[2, 0, 3, 1]\n"
     ]
    }
   ],
   "source": [
    "# N-Queen\n",
    "def solve(row, cols, diag1, diag2, path):\n",
    "  if row == 4:\n",
    "    print(path)\n",
    "    return\n",
    "  for col in range(4):\n",
    "    if col not in cols and row+col not in diag1 and row-col not in diag2:\n",
    "      solve(row+1, cols|{col}, diag1|{row+col}, diag2|{row-col}, path+[col])\n",
    "\n",
    "solve(0, set(), set(), set(), [])\n"
   ]
  },
  {
   "cell_type": "code",
   "execution_count": null,
   "id": "47641e2f",
   "metadata": {},
   "outputs": [
    {
     "name": "stdout",
     "output_type": "stream",
     "text": [
      "a b c\n",
      "a b d\n",
      "a c d\n",
      "b c d\n"
     ]
    }
   ],
   "source": [
    "# 사전 순 문자열 조합\n",
    "def pick(chars, start, path):\n",
    "  if len(path) == 3:\n",
    "    print(' '.join(path))\n",
    "    return\n",
    "  \n",
    "  for i in range(start, len(chars)):\n",
    "    pick(chars, i+1, path+[chars[i]])\n",
    "\n",
    "pick(['a', 'b', 'c', 'd'], 0, [])"
   ]
  }
 ],
 "metadata": {
  "kernelspec": {
   "display_name": "Python 3",
   "language": "python",
   "name": "python3"
  },
  "language_info": {
   "codemirror_mode": {
    "name": "ipython",
    "version": 3
   },
   "file_extension": ".py",
   "mimetype": "text/x-python",
   "name": "python",
   "nbconvert_exporter": "python",
   "pygments_lexer": "ipython3",
   "version": "3.12.9"
  }
 },
 "nbformat": 4,
 "nbformat_minor": 5
}
