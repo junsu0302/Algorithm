{
 "cells": [
  {
   "cell_type": "markdown",
   "id": "b3c4d89f",
   "metadata": {},
   "source": [
    "# 투 포인터\n",
    "\n",
    "정렬된 배열에서 두 개의 인덱스(pointer)를 움직이면서 특정 조건을 만족하는 구간을 빠르게 탐색하는 알고리즘이다.\n",
    "\n",
    "- 일반적 투 포인터 (양 끝에서 좁히는 방식) : 정렬된 배열에서 조건에 맞는 쌍 탐색\n",
    "- 연속 구간형 (슬라이딩 윈도우) : 연속 구간(구간 합, 길이, 최대값, 최솟값) 탐색\n",
    "- 조건 누적형 : 요소의 중복 허용 X\n",
    "- 조합 최적화형 : 부분 집합의 조합 탐색\n",
    "- 다중 포인터 : 여러 개의 포인터를 사용"
   ]
  },
  {
   "cell_type": "code",
   "execution_count": 1,
   "id": "341a8e06",
   "metadata": {},
   "outputs": [
    {
     "name": "stdout",
     "output_type": "stream",
     "text": [
      "(1, 10)\n"
     ]
    }
   ],
   "source": [
    "# 투 포인터 (양 끝 수렴형) - 배열 내 두 수의 합이 target에 가장 가까운 쌍 탐색\n",
    "def tow_pointer(arr, target):\n",
    "  # 1. 정렬 및 포인터 초기화\n",
    "  arr.sort()\n",
    "  left, right = 0, len(arr)-1\n",
    "  \n",
    "  check = float('inf')\n",
    "  result = ()\n",
    "  \n",
    "  # 2. 투 포인터 진행\n",
    "  while left < right:\n",
    "    total = arr[left] + arr[right]\n",
    "    \n",
    "    # 2.1. 조건 확인 : 조건에 맞는다면 결과 갱신\n",
    "    if abs(total - target) < abs(check - target):\n",
    "      check = total\n",
    "      result = (arr[left], arr[right])\n",
    "    \n",
    "    # 2.2. 포인터 이동\n",
    "    if total < target:\n",
    "      left += 1\n",
    "    else:\n",
    "      right -= 1\n",
    "    \n",
    "  return result\n",
    "\n",
    "print(tow_pointer([1, 3, 5, 7, 10], 11))"
   ]
  },
  {
   "cell_type": "code",
   "execution_count": 2,
   "id": "fc2387a6",
   "metadata": {},
   "outputs": [
    {
     "name": "stdout",
     "output_type": "stream",
     "text": [
      "(3, 4)\n"
     ]
    }
   ],
   "source": [
    "# 연속 구간형 - 합이 target 이상인 가장 짧은 연속 부분 수열 위치 쌍 탐색\n",
    "def sliding_window(arr, target):\n",
    "  # 1. 왼쪽 포인터 초기화\n",
    "  left = 0\n",
    "\n",
    "  total = 0\n",
    "  result = (-1, -1)\n",
    "  min_len = float('inf')\n",
    "\n",
    "  # 2. 오른쪽 포인터 이동\n",
    "  for right in range(len(arr)):\n",
    "    total += arr[right]\n",
    "\n",
    "    # 3. 왼쪽 포인터 이동 : 왼쪽 포인터가 이동하며 조건에 맞는 결과 탐색\n",
    "    while total >= target:\n",
    "      now_len = right - left + 1\n",
    "      if now_len < min_len:\n",
    "        min_len = now_len\n",
    "        result = (left, right)\n",
    "      total -= arr[left]\n",
    "      left += 1\n",
    "\n",
    "  return result if result != (-1, -1) else None\n",
    "\n",
    "print(sliding_window([1, 2, 3, 4, 5], 9))"
   ]
  },
  {
   "cell_type": "code",
   "execution_count": 3,
   "id": "5327964c",
   "metadata": {},
   "outputs": [
    {
     "name": "stdout",
     "output_type": "stream",
     "text": [
      "(2, 5)\n"
     ]
    }
   ],
   "source": [
    "# 조건 누적형 - 중복이 없는 가장 긴 부분 수열의 길이\n",
    "def condition_two_pointer(arr):\n",
    "  # 1. 왼쪽 포인터 초기화\n",
    "  left = 0\n",
    "\n",
    "  seen = set()\n",
    "  max_len = 0\n",
    "  result = (0, 0)\n",
    "  \n",
    "  # 2. 오른쪽 포인터 이동\n",
    "  for right in range(len(arr)):\n",
    "    \n",
    "    # 3. 왼쪽 포인터 이동 : 왼쪽 포인터가 이동하며 조건에 맞는 결과 탐색\n",
    "    while arr[right] in seen:\n",
    "      seen.remove(arr[left])\n",
    "      left += 1\n",
    "\n",
    "    seen.add(arr[right])\n",
    "\n",
    "    # 정보 갱신\n",
    "    now_len = right - left + 1 \n",
    "    if now_len > max_len:\n",
    "      max_len = now_len\n",
    "      result = (left, right)\n",
    "\n",
    "  return result\n",
    "\n",
    "print(condition_two_pointer([1, 2, 3, 2, 4, 5]))"
   ]
  },
  {
   "cell_type": "code",
   "execution_count": 4,
   "id": "849d3eb9",
   "metadata": {},
   "outputs": [
    {
     "name": "stdout",
     "output_type": "stream",
     "text": [
      "6\n"
     ]
    }
   ],
   "source": [
    "# 조합 최적화형 - 부분집합 중 target과 일치하는 경우의 수 탐색\n",
    "from itertools import combinations\n",
    "from bisect import bisect_left, bisect_right\n",
    "\n",
    "def get_all_sums(arr):\n",
    "  # arr의 모든 부분집합의 합 반환\n",
    "  result = []\n",
    "  for i in range(len(arr)+1):\n",
    "    for comb in combinations(arr, i):\n",
    "      result.append(sum(comb))\n",
    "  return result\n",
    "\n",
    "def meet_in_middle(arr, target):\n",
    "  # 1. 배열을 두 부분으로 분할 : 탐색 범위 감소\n",
    "  passive_arr = arr[:len(arr)//2] # passive(left) : 조건 제공자(active를 도움)\n",
    "  active_arr = arr[len(arr)//2:]  # active(right) : 정렬 후 이진 탐색으로 조건 판단\n",
    "\n",
    "  # 2. 절반으로 나눈 배열으로 연산 : 연산 횟수 감소\n",
    "  passive_sums = get_all_sums(passive_arr)\n",
    "  active_sums = get_all_sums(active_arr)\n",
    "\n",
    "  # 3. 하나의 배열만 정렬 : 정렬 범위를 줄임 (이진 탐색 사용)\n",
    "  active_sums.sort()\n",
    "  \n",
    "  cnt = 0\n",
    "  # 4. 반대 배열 값 순회 : 정렬된 배열과 연산하여 정렬 없이 값 도출\n",
    "  for passive_sum in passive_sums:\n",
    "    remain = target - passive_sum\n",
    "\n",
    "    # 4.1. bisect_left : target(remain)이 처음으로 나타는 위치\n",
    "    left = bisect_left(active_sums, remain)\n",
    "    # 4.2. bisect_right : target(remain)보다 큰 값이 처음 나타나는 위치\n",
    "    right = bisect_right(active_sums, remain)\n",
    "    # 4.3. 목적에 맞는 값 산출\n",
    "    cnt += right - left\n",
    "\n",
    "  return cnt\n",
    "\n",
    "arr = [1, 2, 3, 2, 4, 5]\n",
    "target = 7\n",
    "print(meet_in_middle(arr, target))"
   ]
  },
  {
   "cell_type": "code",
   "execution_count": 5,
   "id": "c7641d0c",
   "metadata": {},
   "outputs": [
    {
     "name": "stdout",
     "output_type": "stream",
     "text": [
      "(-1, 1, 2)\n"
     ]
    }
   ],
   "source": [
    "# 세 포인터 - 배열 내 세 수의 합이 target에 가장 가까운 쌍 탐색\n",
    "def three_pointer(arr, target):\n",
    "  # 1. 정렬\n",
    "  arr.sort()\n",
    "\n",
    "  result = ()\n",
    "  check = float('inf')\n",
    "  \n",
    "  # 2. 왼쪽 포인터(1 pointer) 설정\n",
    "  for left in range(len(arr)-2):\n",
    "    # 2.1. 중앙 포인터(2 pointer), 오른쪽 포인터(3 pointer) 설정\n",
    "    mid, right = left+1, len(arr)-1\n",
    "    \n",
    "    # 2.2. 투 포인터 실행\n",
    "    while mid < right:\n",
    "      total = arr[left] + arr[mid] + arr[right]\n",
    "\n",
    "      # 2.2.1. 조건 확인\n",
    "      if abs(total - target) < abs(check - target):\n",
    "        check = total\n",
    "        result = (arr[left], arr[mid], arr[right])\n",
    "\n",
    "      # 2.2.2. 포인터 이동\n",
    "      if total < target:\n",
    "        mid += 1\n",
    "      else:\n",
    "        right -= 1\n",
    "  \n",
    "  return result\n",
    "\n",
    "print(three_pointer([-1, 2, 1, -4], 1))"
   ]
  }
 ],
 "metadata": {
  "kernelspec": {
   "display_name": "Python 3",
   "language": "python",
   "name": "python3"
  },
  "language_info": {
   "codemirror_mode": {
    "name": "ipython",
    "version": 3
   },
   "file_extension": ".py",
   "mimetype": "text/x-python",
   "name": "python",
   "nbconvert_exporter": "python",
   "pygments_lexer": "ipython3",
   "version": "3.12.9"
  }
 },
 "nbformat": 4,
 "nbformat_minor": 5
}
