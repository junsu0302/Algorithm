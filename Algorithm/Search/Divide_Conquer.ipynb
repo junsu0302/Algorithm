{
 "cells": [
  {
   "cell_type": "markdown",
   "id": "379ec88f",
   "metadata": {},
   "source": [
    "# 분할 정복\n",
    "\n",
    "문제를 작게 분할하여 해결한 후, 해답들을 결합하여 전체 문제를 해결하는 방식이다.\n",
    "\n",
    "- 수식 분할\n",
    "- 배열 분할\n",
    "- 중간 포함 분할\n",
    "- 행렬 분할"
   ]
  },
  {
   "cell_type": "code",
   "execution_count": 10,
   "id": "230de07c",
   "metadata": {},
   "outputs": [
    {
     "name": "stdout",
     "output_type": "stream",
     "text": [
      "3\n"
     ]
    }
   ],
   "source": [
    "# 수식 분할 (거듭제곱 분할 a^b%c)\n",
    "def fast_pow(a, b, mod):\n",
    "  if b == 0:\n",
    "    return 1\n",
    "  \n",
    "  half = fast_pow(a, b//2, mod)\n",
    "  result = (half * half) % mod\n",
    "  \n",
    "  if b % 2 == 1:\n",
    "    result = (result * a) % mod\n",
    "\n",
    "  return result\n",
    "\n",
    "print(fast_pow(3, 13, 7)) # 3^13%7"
   ]
  },
  {
   "cell_type": "code",
   "execution_count": null,
   "id": "a75a46c2",
   "metadata": {},
   "outputs": [
    {
     "name": "stdout",
     "output_type": "stream",
     "text": [
      "2 2\n"
     ]
    }
   ],
   "source": [
    "# 배열 분할 (사각형 분할)\n",
    "paper = [\n",
    "  [1, 1, 0, 0],\n",
    "  [1, 1, 0, 0],\n",
    "  [0, 0, 1, 1],\n",
    "  [0, 0, 1, 1]\n",
    "]\n",
    "\n",
    "white, black = 0, 0\n",
    "def divide(row, col, size):\n",
    "  global white, black\n",
    "  color = paper[row][col]\n",
    "  for r in range(row, row + size):\n",
    "    for c in range(col, col + size):\n",
    "      if paper[r][c] != color:\n",
    "        size //= 2\n",
    "        divide(row, col, size)\n",
    "        divide(row, col + size, size)\n",
    "        divide(row + size, col, size)\n",
    "        divide(row + size, col + size, size)\n",
    "        return\n",
    "      \n",
    "  if color == 0:\n",
    "    white += 1\n",
    "  else:\n",
    "    black += 1\n",
    "  \n",
    "divide(0, 0, 4)\n",
    "print(white, black)"
   ]
  },
  {
   "cell_type": "code",
   "execution_count": null,
   "id": "03a18a80",
   "metadata": {},
   "outputs": [
    {
     "name": "stdout",
     "output_type": "stream",
     "text": [
      "7\n"
     ]
    }
   ],
   "source": [
    "# 중간 포함 분할 (최대 구간 합)\n",
    "def max_sum(arr, left, mid, right):\n",
    "  left_sum = float('-inf')\n",
    "  tmp = 0\n",
    "  for i in range(mid, left-1, -1):\n",
    "    tmp += arr[i]\n",
    "    left_sum = max(left_sum, tmp)\n",
    "\n",
    "  right_sum = float('-inf')\n",
    "  tmp = 0\n",
    "  for i in range(mid+1, right+1):\n",
    "    tmp += arr[i]\n",
    "    right_sum = max(right_sum, tmp)\n",
    "\n",
    "  return left_sum + right_sum\n",
    "\n",
    "def max_subarray(arr, left, right):\n",
    "  if left == right:\n",
    "    return arr[left]\n",
    "  \n",
    "  mid = (left + right) // 2\n",
    "  return max(\n",
    "    max_subarray(arr, left, mid),\n",
    "    max_subarray(arr, mid+1, right),\n",
    "    max_sum(arr, left, mid, right),\n",
    "  )\n",
    "\n",
    "arr = [2, -1, 3, -2, 4, -5, 6]\n",
    "print(max_subarray(arr, 0, len(arr)-1)) "
   ]
  },
  {
   "cell_type": "code",
   "execution_count": 32,
   "id": "06ca2f97",
   "metadata": {},
   "outputs": [
    {
     "name": "stdout",
     "output_type": "stream",
     "text": [
      "1069 1558\n",
      "2337 3406\n"
     ]
    }
   ],
   "source": [
    "# 고급 행렬 분할 (거듭제곱)\n",
    "def mat_mul(a, b):\n",
    "  n = len(a)\n",
    "  result = [[0] * n for _ in range(n)]\n",
    "  for i in range(n):\n",
    "    for j in range(n):\n",
    "      for k in range(n):\n",
    "        result[i][j] = result[i][j] + a[i][k] * b[k][j]\n",
    "  \n",
    "  return result\n",
    " \n",
    "def mat_pow(matrix, pow):\n",
    "  if pow == 1:\n",
    "    return matrix\n",
    "  \n",
    "  half = mat_pow(matrix, pow//2)\n",
    "  result = mat_mul(half, half)\n",
    "  \n",
    "  if pow % 2 == 1:\n",
    "    result = mat_mul(result, matrix)\n",
    "  \n",
    "  return result\n",
    "\n",
    "A = [[1, 2],[3, 4]]\n",
    "B = 5\n",
    "result = mat_pow(A, B)\n",
    "for row in result:\n",
    "  print(*row)"
   ]
  }
 ],
 "metadata": {
  "kernelspec": {
   "display_name": "Python 3",
   "language": "python",
   "name": "python3"
  },
  "language_info": {
   "codemirror_mode": {
    "name": "ipython",
    "version": 3
   },
   "file_extension": ".py",
   "mimetype": "text/x-python",
   "name": "python",
   "nbconvert_exporter": "python",
   "pygments_lexer": "ipython3",
   "version": "3.12.9"
  }
 },
 "nbformat": 4,
 "nbformat_minor": 5
}
