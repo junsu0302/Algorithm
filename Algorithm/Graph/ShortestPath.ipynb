{
 "cells": [
  {
   "cell_type": "markdown",
   "id": "b6742f39",
   "metadata": {},
   "source": [
    "# 최단 경로 알고리즘\n",
    "\n",
    "그래프에서 두 정점 사이의 가장 짧은 경로를 찾는 알고리즘이다.\n",
    "\n",
    "- Dijkstra : 한 정점 → 모든 정점 최단 거리\n",
    "- Bellman-Ford : 한 정점 → 모든 정점 + 음수 처리\n",
    "- Floyd-Warshall : 모든 정점 ↔ 모든 정점 최단 거리 \n",
    "- 0-1 BFS : 가중치가 0 or 1인 그래프에서 최단 거리"
   ]
  },
  {
   "cell_type": "code",
   "execution_count": null,
   "id": "1b036033",
   "metadata": {},
   "outputs": [
    {
     "name": "stdout",
     "output_type": "stream",
     "text": [
      "[0, 2, 3, 5]\n"
     ]
    }
   ],
   "source": [
    "# Dijkstra\n",
    "import heapq\n",
    "\n",
    "def dijkstra(start, graph, V):\n",
    "  # 최단 거리 배열 초기화\n",
    "  dist = [float('inf')] * V\n",
    "  dist[start] = 0\n",
    "  heap = [(0, start)]\n",
    "\n",
    "  while heap:\n",
    "    cost, u = heapq.heappop(heap)\n",
    "\n",
    "    # 이미 저장된 거리보다 긴 거리는 무시\n",
    "    if cost > dist[u]:\n",
    "      continue\n",
    "\n",
    "    # 현재 정점 u에서 인접한 모든 정점 v 확인 (최단거리 확인 시 갱신)\n",
    "    for v, w in graph[u]:\n",
    "      if dist[v] > cost + w:\n",
    "        dist[v] = cost + w\n",
    "        heapq.heappush(heap, (dist[v], v))\n",
    "  \n",
    "  return dist\n",
    "  \n",
    "graph = {\n",
    "  0: [(1, 2), (2, 5)],\n",
    "  1: [(2, 1)],\n",
    "  2: [(3, 2)],\n",
    "  3: []\n",
    "}\n",
    "print(dijkstra(0, graph, 4))"
   ]
  },
  {
   "cell_type": "code",
   "execution_count": null,
   "id": "1737f6ed",
   "metadata": {},
   "outputs": [
    {
     "name": "stdout",
     "output_type": "stream",
     "text": [
      "[0, 4, 2, 5]\n"
     ]
    }
   ],
   "source": [
    "# Bellman-Ford\n",
    "def bellman_ford(start, edges, V):\n",
    "  # 최단 거리 배열 초기화\n",
    "  dist = [float('inf')] * V\n",
    "  dist[start] = 0\n",
    "\n",
    "  # 전체 간선을 순회하면 거리 갱신\n",
    "  for _ in range(V-1):\n",
    "    for u, v, w in edges:\n",
    "      if dist[u] != float('inf') and dist[v] > dist[u] + w:\n",
    "        dist[v] = dist[u] + w\n",
    "\n",
    "  # 추가 1회 순회로 음수 사이클 검사\n",
    "  for u, v, w in edges:\n",
    "    if dist[u] != float('inf') and dist[v] > dist[u] + w:\n",
    "      return 'NEGATIVE CYCLE'\n",
    "    \n",
    "  return dist\n",
    "\n",
    "edges = [(0, 1, 4), (1, 2, -2), (0, 2, 5), (2, 3, 3)]\n",
    "print(bellman_ford(0, edges, 4))"
   ]
  },
  {
   "cell_type": "code",
   "execution_count": null,
   "id": "18ff0d39",
   "metadata": {},
   "outputs": [
    {
     "name": "stdout",
     "output_type": "stream",
     "text": [
      "[0, 3, 5, 6]\n",
      "[7, 0, 2, 3]\n",
      "[5, 8, 0, 1]\n",
      "[4, 7, 9, 0]\n"
     ]
    }
   ],
   "source": [
    "def floyd_warshall(graph, V):\n",
    "  # 최단 거리 배열 초기화\n",
    "  dist = [[float('inf')] * V for _ in range(V)]\n",
    "  for i in range(V):\n",
    "    dist[i][i] = 0\n",
    "  \n",
    "  # 그래프 간선 정보로 초기 거리 세팅\n",
    "  for u in range(V):\n",
    "    for v, w in graph[u]:\n",
    "      dist[u][v] = w\n",
    "\n",
    "  # 경유지 k를 통해 i → j 거리 갱신 여부 판단\n",
    "  for k in range(V):\n",
    "    for i in range(V):\n",
    "      for j in range(V):\n",
    "        dist[i][j] = min(dist[i][j], dist[i][k] + dist[k][j])\n",
    "\n",
    "  return dist\n",
    "\n",
    "graph = {\n",
    "  0: [(1, 3), (2, 8)],\n",
    "  1: [(2, 2)],\n",
    "  2: [(3, 1)],\n",
    "  3: [(0, 4)]\n",
    "}\n",
    "res = floyd_warshall(graph, 4)\n",
    "for row in res:\n",
    "  print(row)"
   ]
  },
  {
   "cell_type": "code",
   "execution_count": null,
   "id": "80d451a0",
   "metadata": {},
   "outputs": [
    {
     "name": "stdout",
     "output_type": "stream",
     "text": [
      "[0, 0, 0, 0]\n"
     ]
    }
   ],
   "source": [
    "# 0-1 BFS\n",
    "from collections import deque\n",
    "\n",
    "def zero_one_bfs(start, graph, V):\n",
    "  # 최단 거리 배열 초기화\n",
    "  dist = [float('inf')] * V\n",
    "  dist[start] = 0\n",
    "  dq = deque([start])\n",
    "\n",
    "  while dq:\n",
    "    u = dq.popleft()\n",
    "    for v, w in graph[u]:\n",
    "      if dist[v] > dist[u] + w:\n",
    "        dist[v] = dist[u] + w\n",
    "        if w == 0:\n",
    "          dq.appendleft(v)  # 가중치 0 → 우선 탐색\n",
    "        else:\n",
    "          dq.append(v)      # 가중치 1 → 나중 탐색\n",
    "\n",
    "  return dist\n",
    "\n",
    "graph = {\n",
    "    0: [(1, 0), (2, 1)],\n",
    "    1: [(2, 0), (3, 1)],\n",
    "    2: [(3, 0)],\n",
    "    3: []\n",
    "}\n",
    "print(zero_one_bfs(0, graph, 4)) "
   ]
  }
 ],
 "metadata": {
  "kernelspec": {
   "display_name": "Python 3",
   "language": "python",
   "name": "python3"
  },
  "language_info": {
   "codemirror_mode": {
    "name": "ipython",
    "version": 3
   },
   "file_extension": ".py",
   "mimetype": "text/x-python",
   "name": "python",
   "nbconvert_exporter": "python",
   "pygments_lexer": "ipython3",
   "version": "3.12.9"
  }
 },
 "nbformat": 4,
 "nbformat_minor": 5
}
