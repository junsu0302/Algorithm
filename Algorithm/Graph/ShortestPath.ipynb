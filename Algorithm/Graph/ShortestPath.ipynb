{
 "cells": [
  {
   "cell_type": "markdown",
   "id": "b6742f39",
   "metadata": {},
   "source": [
    "# 최단 경로 알고리즘\n",
    "\n",
    "그래프에서 두 정점 사이의 가장 짧은 경로를 찾는 알고리즘이다.\n",
    "\n",
    "- Dijkstra : 한 정점 → 모든 정점 최단 거리\n",
    "- Bellman-Ford : 한 정점 → 모든 정점 + 음수 처리\n",
    "- Floyd-Warshall : 모든 정점 ↔ 모든 정점 최단 거리 \n",
    "- 0-1 BFS : 가중치가 0 or 1인 그래프에서 최단 거리"
   ]
  },
  {
   "cell_type": "code",
   "execution_count": 1,
   "id": "9ec8bd01",
   "metadata": {},
   "outputs": [],
   "source": [
    "graph = {\n",
    "  0: [(1, 2), (2, 4)],\n",
    "  1: [(2, 1), (3, 7)],\n",
    "  2: [(3, 3)],\n",
    "  3: []\n",
    "}\n",
    "edges = [(u, v, w) for u in graph for v, w in graph[u]]\n",
    "V = 4  # 정점 수\n",
    "start = 0"
   ]
  },
  {
   "cell_type": "code",
   "execution_count": 2,
   "id": "edadd559",
   "metadata": {},
   "outputs": [],
   "source": [
    "# 최단 경로 복원 (0-1 BFS, Dijkstra, Bellman-Ford)\n",
    "def reconstruct_path(prev, start, end):\n",
    "  path = []\n",
    "  # end 노드부터 prev 배열을 따라가며 경로 추척\n",
    "  while end != -1:\n",
    "    path.append(end)\n",
    "    end = prev[end] # 이전 노드로 이동\n",
    "\n",
    "  # 경로의 시작점이 start와 일치할 경우 → 정상 경로, 아니면 빈 리스트 반환\n",
    "  return path[::-1] if path[-1] == start else []\n"
   ]
  },
  {
   "cell_type": "code",
   "execution_count": 3,
   "id": "80d451a0",
   "metadata": {},
   "outputs": [
    {
     "name": "stdout",
     "output_type": "stream",
     "text": [
      "0-1 BFS 경로: [0, 1, 2, 3]\n",
      "0-1 BFS 거리: [0, 2, 3, 6]\n"
     ]
    }
   ],
   "source": [
    "# 0-1 BFS: 가중치가 0 또는 1인 그래프에서 최단 거리 탐색\n",
    "from collections import deque\n",
    "\n",
    "def zero_one_bfs(start, graph, V):\n",
    "  # 최단 거리 배열 및 경로 추적 배열 초기화\n",
    "  dist = [float('inf') for _ in range(V)]\n",
    "  dist[start] = 0\n",
    "  prev = [-1 for _ in range(V)]\n",
    "\n",
    "  # BFS 탐색\n",
    "  queue = deque([start])\n",
    "  while queue:\n",
    "    node = queue.popleft()\n",
    "\n",
    "    # 현재 노드와 연결된 모든 노드 확인 (최단거리 확인 시 갱신)\n",
    "    for next, cost in graph[node]:\n",
    "      if dist[next] > dist[node] + cost:\n",
    "        dist[next] = dist[node] + cost\n",
    "        prev[next] = node\n",
    "\n",
    "        if cost == 0:\n",
    "          queue.appendleft(next)  # 가중치 0 → 우선 탐색\n",
    "        else:\n",
    "          queue.append(next)      # 가중치 1 → 나중 탐색\n",
    "\n",
    "  return dist, prev\n",
    "\n",
    "dist, prev = zero_one_bfs(start, graph, V)\n",
    "print(\"0-1 BFS 경로:\", reconstruct_path(prev, start, 3))\n",
    "print(\"0-1 BFS 거리:\", dist)"
   ]
  },
  {
   "cell_type": "code",
   "execution_count": 4,
   "id": "1b036033",
   "metadata": {},
   "outputs": [
    {
     "name": "stdout",
     "output_type": "stream",
     "text": [
      "Dijkstra 경로: [0, 1, 2, 3]\n",
      "Dijkstra 거리: [0, 2, 3, 6]\n"
     ]
    }
   ],
   "source": [
    "# Dijkstra : 한 정점에서 다른 정점들의 최단 거리 탐색 (양의 그래프만)\n",
    "import heapq\n",
    "\n",
    "def dijkstra(start, graph, V):\n",
    "  # 최단 거리 배열 및 경로 추적 배열 초기화\n",
    "  dist = [float('inf') for _ in range(V)]\n",
    "  dist[start] = 0\n",
    "  prev = [-1 for _ in range(V)]\n",
    "\n",
    "  priority_queue = [(0, start)]\n",
    "  while priority_queue:\n",
    "    cost, node = heapq.heappop(priority_queue)\n",
    "\n",
    "    # 이미 저장된 거리보다 긴 거리는 무시\n",
    "    if cost > dist[node]:\n",
    "      continue\n",
    "\n",
    "    # 현재 정점 u에서 인접한 모든 정점 v 확인 (최단거리 확인 시 갱신)\n",
    "    for next, weight in graph[node]:\n",
    "      if dist[next] > cost + weight:\n",
    "        dist[next] = cost + weight\n",
    "        prev[next] = node\n",
    "        heapq.heappush(priority_queue, (dist[next], next))\n",
    "  \n",
    "  return dist, prev\n",
    "  \n",
    "dist, prev = dijkstra(start, graph, V)\n",
    "print(\"Dijkstra 경로:\", reconstruct_path(prev, start, 3))\n",
    "print(\"Dijkstra 거리:\", dist)"
   ]
  },
  {
   "cell_type": "code",
   "execution_count": 5,
   "id": "1737f6ed",
   "metadata": {},
   "outputs": [
    {
     "name": "stdout",
     "output_type": "stream",
     "text": [
      "Bellman-Ford 경로: [0, 1, 2, 3]\n",
      "Bellman-Ford 거리: [0, 2, 3, 6]\n"
     ]
    }
   ],
   "source": [
    "# Bellman-Ford : 한 정점에서 다른 정점들의 최단 거리 탐색 (음의 그래프 허용)\n",
    "def bellman_ford(start, edges, V):\n",
    "  # 최단 거리 배열 초기화\n",
    "  dist = [float('inf') for _ in range(V)]\n",
    "  dist[start] = 0\n",
    "\n",
    "  prev = [-1 for _ in range(V)]\n",
    "\n",
    "  # 전체 간선을 순회하면 거리 갱신\n",
    "  for _ in range(V-1):\n",
    "    for node, next, cost in edges:\n",
    "      # 시작점에 도달 가능한 노드에서만 갱신 시도\n",
    "      if dist[node] != float('inf') and dist[next] > dist[node] + cost:\n",
    "        dist[next] = dist[node] + cost\n",
    "        prev[next] = node\n",
    "\n",
    "  # 음수 사이클 검사\n",
    "  for node, next, cost in edges:\n",
    "    if dist[next] > dist[node] + cost:\n",
    "      return 'NEGATIVE CYCLE'\n",
    "    \n",
    "  return dist, prev\n",
    "\n",
    "dist, prev = bellman_ford(start, edges, V)\n",
    "print(\"Bellman-Ford 경로:\", reconstruct_path(prev, start, 3))\n",
    "print(\"Bellman-Ford 거리:\", dist)"
   ]
  },
  {
   "cell_type": "code",
   "execution_count": 6,
   "id": "acefe6cf",
   "metadata": {},
   "outputs": [],
   "source": [
    "# 최단 경로 복원 (Floyd-Warshall)\n",
    "def reconstruct_fw_path(nxt, u, v):\n",
    "  # 경로가 존재하지 않으면 빈 리스트 반환\n",
    "  if nxt[u][v] == -1:\n",
    "    return []\n",
    "  \n",
    "  # 경로 추적 (도착 노드까지 이동)\n",
    "  path = [u]\n",
    "  while u != v:\n",
    "    u = nxt[u][v]\n",
    "    path.append(u)\n",
    "  return path"
   ]
  },
  {
   "cell_type": "code",
   "execution_count": 7,
   "id": "18ff0d39",
   "metadata": {},
   "outputs": [
    {
     "name": "stdout",
     "output_type": "stream",
     "text": [
      "Floyd-Warshall 경로 (0→3): [0, 1, 2, 3]\n",
      "Floyd-Warshall 거리 (0→3): 6\n"
     ]
    }
   ],
   "source": [
    "# Floyd-Warshall : 모든 정점 간의 모든 경로 탐색\n",
    "def floyd_warshall(graph, V):\n",
    "  # 최단 거리 및 경로 복원 배열 초기화\n",
    "  dist = [[float('inf') for _ in range(V)] for _ in range(V)]\n",
    "  next_node = [[-1 for _ in range(V)] for _ in range(V)]\n",
    "  \n",
    "  \n",
    "  # 그래프 간선 정보로 초기 거리 및 경로 설정\n",
    "  for node in range(V):\n",
    "    dist[node][node] = 0\n",
    "    for next, cost in graph[node]:\n",
    "      dist[node][next] = cost\n",
    "      next_node[node][next] = next\n",
    "\n",
    "  # 경유지 k를 통해 i → j 거리 갱신 여부 판단\n",
    "  for k in range(V):\n",
    "    for i in range(V):\n",
    "      for j in range(V):\n",
    "        if dist[i][k] + dist[k][j] < dist[i][j]:\n",
    "          dist[i][j] = dist[i][k] + dist[k][j]\n",
    "          next_node[i][j] = next_node[i][k]\n",
    "\n",
    "\n",
    "  return dist, next_node\n",
    "\n",
    "dist, nxt = floyd_warshall(graph, V)\n",
    "print(\"Floyd-Warshall 경로 (0→3):\", reconstruct_fw_path(nxt, 0, 3))\n",
    "print(\"Floyd-Warshall 거리 (0→3):\", dist[0][3])"
   ]
  }
 ],
 "metadata": {
  "kernelspec": {
   "display_name": "Python 3",
   "language": "python",
   "name": "python3"
  },
  "language_info": {
   "codemirror_mode": {
    "name": "ipython",
    "version": 3
   },
   "file_extension": ".py",
   "mimetype": "text/x-python",
   "name": "python",
   "nbconvert_exporter": "python",
   "pygments_lexer": "ipython3",
   "version": "3.12.9"
  }
 },
 "nbformat": 4,
 "nbformat_minor": 5
}
