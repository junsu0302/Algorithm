{
 "cells": [
  {
   "cell_type": "markdown",
   "id": "ca530cc2",
   "metadata": {},
   "source": [
    "# 최소 신장 트리\n",
    "\n",
    "모든 정점을 연결하되, 간선들의 가중치 합이 최소가 되는 신장 트리\n",
    "\n",
    "_신장 트리 : 그래프의 모든 정점을 포함하면서 사이클이 없는 트리_\n",
    "\n",
    "- Kruskal : 간선 중심 | 간선을 오름차순 정렬, 유니온-파인드로 사이클 여부 판단\n",
    "- Prim : 정점 중심 | 우선순위 큐를 사용하여 정점을 탐색하며 탐색"
   ]
  },
  {
   "cell_type": "code",
   "execution_count": null,
   "id": "16ad1de8",
   "metadata": {},
   "outputs": [],
   "source": [
    "def kruskal(V, edges):\n",
    "  # 각 정점을 자신의 부모로 초기화\n",
    "  parent = list(range(V+1))\n",
    "\n",
    "  # 경로 압축 기반 루트 노드 탐색\n",
    "  def find(x):\n",
    "    if parent[x] != x:\n",
    "      parent[x] = find(parent[x])\n",
    "    return parent[x]\n",
    "  \n",
    "  # 서로 다른 집합을 하나로 결합 (사이클 방지))\n",
    "  def union(x, y):\n",
    "    root_x, root_y = find(x), find(y)\n",
    "    if root_x != root_y:\n",
    "      parent[root_y] = root_x\n",
    "      return True # 병합 성공\n",
    "    return False  # 이미 같은 집합 → 사이클 발생\n",
    "  \n",
    "  # 간선을 가중치 기준으로 오름차순 정렬\n",
    "  edges.sort(key=lambda x: x[2])\n",
    "  \n",
    "  # 사이클이 생기지 않으면 해당 간선을 MST에 포함\n",
    "  total = 0\n",
    "  for u, v, cost in edges:\n",
    "    if union(u, v):\n",
    "      total += cost\n",
    "  return total"
   ]
  },
  {
   "cell_type": "code",
   "execution_count": 2,
   "id": "7f98912e",
   "metadata": {},
   "outputs": [],
   "source": [
    "import heapq\n",
    "\n",
    "def prim(V, graph):\n",
    "  # 각 정점 방문 여부\n",
    "  visited = [False for _ in range(V+1)]\n",
    "\n",
    "  # 우선순위 큐 (간선 가중치, 도착 정점)\n",
    "  hq = [(0, 1)]\n",
    "  total = 0\n",
    "  while hq:\n",
    "    cost, node = heapq.heappop(hq)\n",
    "    \n",
    "    # 방문한 정점은 패스\n",
    "    if visited[node]:\n",
    "      continue\n",
    "    \n",
    "    # 정점 방문\n",
    "    visited[node] = True\n",
    "    total += cost\n",
    "\n",
    "    # 방문하지 않은 간선 추가 (우선순위)\n",
    "    for next_cost, next_node in graph[node]:\n",
    "      if not visited[next_node]:\n",
    "        heapq.heappush(hq, (next_cost, next_node))\n",
    "\n",
    "  return total"
   ]
  },
  {
   "cell_type": "code",
   "execution_count": 3,
   "id": "2cae52aa",
   "metadata": {},
   "outputs": [
    {
     "name": "stdout",
     "output_type": "stream",
     "text": [
      "Kruskal MST Cost: 12\n",
      "Prim MST Cost: 12\n"
     ]
    }
   ],
   "source": [
    "from collections import defaultdict\n",
    "V = 5\n",
    "edges = [\n",
    "  (1, 2, 1),\n",
    "  (1, 3, 3),\n",
    "  (2, 3, 2),\n",
    "  (2, 4, 6),\n",
    "  (3, 4, 4),\n",
    "  (4, 5, 5)\n",
    "]\n",
    "\n",
    "graph = defaultdict(list)\n",
    "for u, v, cost in edges:\n",
    "  graph[u].append((cost, v))\n",
    "  graph[v].append((cost, u))\n",
    "\n",
    "kruskal_result = kruskal(V, edges)\n",
    "prim_result = prim(V, graph)\n",
    "\n",
    "print(\"Kruskal MST Cost:\", kruskal_result)\n",
    "print(\"Prim MST Cost:\", prim_result)"
   ]
  }
 ],
 "metadata": {
  "kernelspec": {
   "display_name": "Python 3",
   "language": "python",
   "name": "python3"
  },
  "language_info": {
   "codemirror_mode": {
    "name": "ipython",
    "version": 3
   },
   "file_extension": ".py",
   "mimetype": "text/x-python",
   "name": "python",
   "nbconvert_exporter": "python",
   "pygments_lexer": "ipython3",
   "version": "3.12.9"
  }
 },
 "nbformat": 4,
 "nbformat_minor": 5
}
