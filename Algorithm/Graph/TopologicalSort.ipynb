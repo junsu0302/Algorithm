{
 "cells": [
  {
   "cell_type": "markdown",
   "id": "57902c35",
   "metadata": {},
   "source": [
    "# 위상 정렬  \n",
    "\n",
    "방향 비순환 그래프(DAG)에서 선행 조건(의존 관계)을 만족하면서 모든 노드를 순서대로 나열하는 알고리즘이다.\n",
    "\n",
    "진입 차수(in degree)는 선행 조건을 의미한다. 즉 선행 조건인 in degree가 0을 기준으로 정렬을 수행한다.\n",
    "\n",
    "- 기본 위상정렬: 진입 차수 0인 노드를 큐에 넣어 순서대로 처리 (Kahn’s Algorithm)\n",
    "- 사전순 정렬: 진입 차수 0인 노드 중 번호가 작은 순으로 처리 (우선순위 큐 사용)\n",
    "- 사이클 탐지: DFS나 위상 정렬 도중 순환 구조가 있는지 판단\n",
    "- 동적 간선 변경: 간선 정보를 실시간으로 수정한 뒤 위상 정렬 수행\n"
   ]
  },
  {
   "cell_type": "code",
   "execution_count": 1,
   "id": "f2a1cd70",
   "metadata": {},
   "outputs": [],
   "source": [
    "n = 6\n",
    "graph = [\n",
    "  [],      # 0번 노드: 나가는 간선 없음\n",
    "  [],      # 1번 노드: 나가는 간선 없음\n",
    "  [3],     # 2 → 3\n",
    "  [1],     # 3 → 1\n",
    "  [0, 1],  # 4 → 0, 1\n",
    "  [0, 2]   # 5 → 0, 2\n",
    "]"
   ]
  },
  {
   "cell_type": "code",
   "execution_count": 2,
   "id": "aae2ab4a",
   "metadata": {},
   "outputs": [
    {
     "name": "stdout",
     "output_type": "stream",
     "text": [
      "기본 위상 정렬 : [4, 5, 0, 2, 3, 1]\n"
     ]
    }
   ],
   "source": [
    "# 기본 위상정렬 (BFS-queue) - 간단, 빠름\n",
    "from collections import deque\n",
    "\n",
    "def topo_sort(n, graph):\n",
    "  # 1. 진입 차수 계산 : 각 노드의 선행 작업 확인\n",
    "  in_degree = [0] * n # 선행 작업 개념\n",
    "\n",
    "  for u in range(n):\n",
    "    for v in graph[u]:\n",
    "      in_degree[v] += 1\n",
    "\n",
    "  # 2. 초기화 : 진입 차수가 0인 노드들을 큐에 넣어 시작점으로 설정\n",
    "  result = []\n",
    "  q = deque(i for i in range(n) if in_degree[i] == 0)\n",
    "  \n",
    "  # 3. 위상 정렬 : 진입 차수가 0인 노드를 제거하며 순서 생성\n",
    "  while q:\n",
    "    # 3.1. 노드 순서 생성\n",
    "    current = q.popleft()\n",
    "    result.append(current)\n",
    "\n",
    "    # 3.2. 연결된 노드들의 진입 차수 감소\n",
    "    for next in graph[current]:\n",
    "      in_degree[next] -= 1\n",
    "      if in_degree[next] == 0:\n",
    "        q.append(next)\n",
    "\n",
    "  # 4. 모든 노드를 방문했다면 정렬 결과를 반환, 아니면 사이클 존재\n",
    "  return result if len(result) == n else None\n",
    "\n",
    "print(\"기본 위상 정렬 :\", topo_sort(n, graph))"
   ]
  },
  {
   "cell_type": "code",
   "execution_count": 3,
   "id": "c85005cf",
   "metadata": {},
   "outputs": [
    {
     "name": "stdout",
     "output_type": "stream",
     "text": [
      "사전순 위상 정렬 : [4, 5, 0, 2, 3, 1]\n"
     ]
    }
   ],
   "source": [
    "# 사전순(우선순위) 위상정렬 - 결과 일관성, 조건 제어 가능\n",
    "import heapq\n",
    "\n",
    "def lex_topo_sort(n, graph):\n",
    "  # 1. 진입 차수 계산 : 각 노드의 선행 작업 확인\n",
    "  in_degree = [0] * n\n",
    "  for u in range(n):\n",
    "    for v in graph[u]:\n",
    "      in_degree[v] += 1\n",
    "\n",
    "  # 2. 초기화 : 진입 차수 0인 노드들을 힙에 삽입 (사전순 자동 정렬)\n",
    "  result = []\n",
    "  heap = [i for i in range(n) if in_degree[i] == 0]\n",
    "  heapq.heapify(heap)\n",
    "\n",
    "  # 3. 위상 정렬 : 진입 차수가 0인 노드를 제거하며 순서 생성\n",
    "  while heap:\n",
    "    # 3.1. 노드 순서 생성\n",
    "    current = heapq.heappop(heap)\n",
    "    result.append(current)\n",
    "\n",
    "    # 3.2. 연결된 노드들의 진입 차수 감소\n",
    "    for next in graph[current]:\n",
    "      in_degree[next] -= 1\n",
    "      if in_degree[next] == 0:\n",
    "        heapq.heappush(heap, next)\n",
    "\n",
    "  # 4. 모든 노드를 방문했다면 정렬 결과를 반환, 아니면 사이클 존재\n",
    "  return result if len(result) == n else None\n",
    "\n",
    "print('사전순 위상 정렬 :', lex_topo_sort(n, graph))"
   ]
  },
  {
   "cell_type": "code",
   "execution_count": 4,
   "id": "d268c999",
   "metadata": {},
   "outputs": [
    {
     "name": "stdout",
     "output_type": "stream",
     "text": [
      "사이클 존재 여부 : No Cycle\n"
     ]
    }
   ],
   "source": [
    "# 사이클 탐지\n",
    "def detect_cycle(n, graph):\n",
    "  visited = [0] * n # 0: 미방문, 1: 방문 중, 2: 방문 완료\n",
    "\n",
    "  # DFS로 노드를 방문하며 사이클 존재 여부 확인\n",
    "  def dfs(node):\n",
    "    visited[node] = 1\n",
    "\n",
    "    for next in graph[node]:\n",
    "      if visited[next] == 2: # 이미 방문 완료된 노드는 건너뜀\n",
    "        continue\n",
    "      elif visited[next] == 1: # 방문 중인 노드를 다시 방문하면 사이클 발생\n",
    "        return True \n",
    "      elif visited[next] == 0: # 방문하지 않은 노드라면 DFS로 재귀 탐색\n",
    "        if dfs(next): # 하위 노드의 사이클 탐지\n",
    "          return True\n",
    "  \n",
    "    visited[node] = 2\n",
    "    return False\n",
    "  \n",
    "  # 모든 노드에 대해 DFS 탐색\n",
    "  for node in range(n):\n",
    "    if visited[node] == 0:\n",
    "      if dfs(node):\n",
    "        return 'Have cycle'\n",
    "  return 'No Cycle'\n",
    "  \n",
    "print('사이클 존재 여부 :', detect_cycle(n, graph))"
   ]
  },
  {
   "cell_type": "code",
   "execution_count": 5,
   "id": "d90a88e8",
   "metadata": {},
   "outputs": [
    {
     "name": "stdout",
     "output_type": "stream",
     "text": [
      "동적 간선 변경 결과 : [4, 0, 5, 2, 1, 3]\n"
     ]
    }
   ],
   "source": [
    "def dynamic_edge_topo_sort(n, current, changes):\n",
    "  # 1. 기본 순서로 간선 구성 : u가 v보다 앞에 있다면 u → v 간선 추가\n",
    "  edge = [[False] * n for _ in range(n)]\n",
    "  for i in range(n):\n",
    "    for j in range(i+1, n):\n",
    "      u, v = current[i], current[j]\n",
    "      edge[u][v] = True\n",
    "\n",
    "  # 2. 간선 방향 변경 적용\n",
    "  for u, v in changes:\n",
    "    if edge[u][v]:\n",
    "      edge[u][v], edge[v][u] = False, True\n",
    "    else:\n",
    "      edge[u][v], edge[v][u] = True, False\n",
    "\n",
    "  # 3. 수정된 그래프 및 진입 차수 구성\n",
    "  graph = [[] for _ in range(n)]\n",
    "  in_degree = [0] * n\n",
    "  for u in range(n):\n",
    "    for v in range(n):\n",
    "      if edge[u][v]:\n",
    "        graph[u].append(v)\n",
    "        in_degree[v] += 1\n",
    "\n",
    "  # 4. 위상 정렬 수행\n",
    "  result = []\n",
    "  queue = deque(i for i in range(n) if in_degree[i] == 0)\n",
    "  while queue:\n",
    "    if len(queue) > 1:\n",
    "      return \"AMBIGUOUS\"  # 순서를 확정할 수 없음 - 가능한 정렬이 여러개\n",
    "    \n",
    "    current = queue.popleft()\n",
    "    result.append(current)\n",
    "\n",
    "    for next in graph[current]:\n",
    "      in_degree[next] -= 1\n",
    "      if in_degree[next] == 0:\n",
    "        queue.append(next)\n",
    "\n",
    "  # 5. 모든 노드를 방문했다면 정렬 결과를 반환, 아니면 사이클 존재\n",
    "  return result if len(result) == n else \"IMPOSSIBLE\"\n",
    "\n",
    "current = [4, 5, 0, 2, 3, 1]\n",
    "changes = [(5, 0), (3, 1)]\n",
    "print('동적 간선 변경 결과 :', dynamic_edge_topo_sort(n, current, changes))"
   ]
  }
 ],
 "metadata": {
  "kernelspec": {
   "display_name": "Python 3",
   "language": "python",
   "name": "python3"
  },
  "language_info": {
   "codemirror_mode": {
    "name": "ipython",
    "version": 3
   },
   "file_extension": ".py",
   "mimetype": "text/x-python",
   "name": "python",
   "nbconvert_exporter": "python",
   "pygments_lexer": "ipython3",
   "version": "3.12.9"
  }
 },
 "nbformat": 4,
 "nbformat_minor": 5
}
