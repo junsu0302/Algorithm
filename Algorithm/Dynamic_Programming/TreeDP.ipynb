{
 "cells": [
  {
   "cell_type": "markdown",
   "id": "ebbf592c",
   "metadata": {},
   "source": [
    "# 트리 DP\n",
    "\n",
    "트리 구조에서 DFS로 상태를 결합한다. 자식 노드 → 부모 노드로 상태를 누적하고, 상태를 정의한다.\n",
    "\n",
    "- 서브트리 누적 : 한 정점을 루트로하는 서브트리 관리\n",
    "- 선택/비선택 분기 : 선택 조건(인접 노드 간 제약 조건)이 있는 문제\n",
    "- 루트 이동 : 모든 정점을 루트로하는 서브트리 관리"
   ]
  },
  {
   "cell_type": "code",
   "execution_count": 1,
   "id": "3d304b63",
   "metadata": {},
   "outputs": [],
   "source": [
    "size = 7\n",
    "\n",
    "tree = {\n",
    "  0: [1, 2], \n",
    "  1: [0, 3, 4], \n",
    "  2: [0, 5, 6], \n",
    "  3: [1], \n",
    "  4: [1], \n",
    "  5: [2], \n",
    "  6: [2]\n",
    "}\n",
    "\n",
    "value = [10, 1, 5, 10, 5, 5, 5]"
   ]
  },
  {
   "cell_type": "code",
   "execution_count": 2,
   "id": "d1f0bbe8",
   "metadata": {},
   "outputs": [
    {
     "name": "stdout",
     "output_type": "stream",
     "text": [
      "서브트리 크기 (노드 0 시작): 7\n",
      "서브트리 크기 (노드 1 시작): 3\n",
      "서브트리 크기 (노드 2 시작): 3\n",
      "서브트리 크기 (노드 3 시작): 1\n",
      "서브트리 크기 (노드 4 시작): 1\n",
      "서브트리 크기 (노드 5 시작): 1\n",
      "서브트리 크기 (노드 6 시작): 1\n"
     ]
    }
   ],
   "source": [
    "# 서브트리 누적 : DFS 하향식으로 자식 → 부모 상태 누적\n",
    "def subtree_size(tree, node_size, root):\n",
    "  size = [1 for _ in range(node_size)]\n",
    "  parent = [-1 for _ in range(node_size)]\n",
    "\n",
    "  order = []\n",
    "  stack = [root]\n",
    "\n",
    "  # DFS : post-order 탐색으로 부모 및 순서 기록\n",
    "  while stack:\n",
    "    node = stack.pop()\n",
    "    order.append(node)\n",
    "    for next in tree[node]:\n",
    "      if next == parent[node]:\n",
    "        continue\n",
    "      parent[next] = node\n",
    "      stack.append(next)\n",
    "\n",
    "  # post-order의 역순 순회로 자식 → 부모 방향으로 서브트리 크기 누적\n",
    "  for node in reversed(order):\n",
    "    p = parent[node]\n",
    "    if p != -1:\n",
    "      size[p] += size[node]\n",
    "  \n",
    "  return size\n",
    "\n",
    "size_list = subtree_size(tree, size, 0)\n",
    "for i in range(size):\n",
    "  print(f'서브트리 크기 (노드 {i} 시작): {size_list[i]}')"
   ]
  },
  {
   "cell_type": "code",
   "execution_count": 3,
   "id": "1b8ed858",
   "metadata": {},
   "outputs": [
    {
     "name": "stdout",
     "output_type": "stream",
     "text": [
      "최대 독립 집합 값 : 35 [0, 3, 4, 5, 6] \n"
     ]
    }
   ],
   "source": [
    "# 트리 독립 집합 : 노드를 기준으로 노드가 포함된 집합과 아닌 집합으로 나눔\n",
    "def max_weight_tree_set(tree, value, size):\n",
    "  parent = [-1 for _ in range(size)]\n",
    "  include = [0 for _ in range(size)]\n",
    "  exclude = [0 for _ in range(size)]\n",
    "  \n",
    "  order = []\n",
    "  stack = [0]\n",
    "\n",
    "  # DFS : post-order 탐색으로 부모 및 순서 기록\n",
    "  while stack:\n",
    "    node = stack.pop()\n",
    "    order.append(node)\n",
    "    for next in tree[node]:\n",
    "      if next == parent[node]:\n",
    "        continue    \n",
    "      parent[next] = node\n",
    "      stack.append(next)\n",
    "\n",
    "  # post-order의 역순 순회로 자식 → 부모 방향으로 순회\n",
    "  for node in reversed(order):\n",
    "    include[node] = value[node]\n",
    "    for next in tree[node]:\n",
    "      if next == parent[node]:\n",
    "        continue    \n",
    "      exclude[node] += max(exclude[next], include[next]) # 본인 미선택 : 자식은 선택 or 미선택\n",
    "      include[node] += exclude[next]                     # 본인 선택 : 자식은 미선택\n",
    "\n",
    "  selected = []\n",
    "  stack = [(0, False)]\n",
    "\n",
    "  # 집합 내 값 탐색\n",
    "  while stack:\n",
    "    node, parent_selected = stack.pop()\n",
    "    if parent_selected:\n",
    "      for next in tree[node]:\n",
    "        if next != parent[node]:\n",
    "          stack.append((next, False))\n",
    "    else:\n",
    "      take = include[node] > exclude[node]\n",
    "      if take:\n",
    "        selected.append(node)\n",
    "      for next in tree[node]:\n",
    "        if next != parent[node]:\n",
    "          stack.append((next, take))\n",
    "  selected.sort()\n",
    "\n",
    "  return max(include[0], exclude[0]), selected\n",
    "\n",
    "weight, member = max_weight_tree_set(tree, value, size)\n",
    "print(f\"최대 독립 집합 값 : {weight} {member} \")"
   ]
  },
  {
   "cell_type": "code",
   "execution_count": 4,
   "id": "333c4bed",
   "metadata": {},
   "outputs": [
    {
     "name": "stdout",
     "output_type": "stream",
     "text": [
      "노드 0가 루트일 때 서브트리 합 : 41\n",
      "노드 1가 루트일 때 서브트리 합 : 50\n",
      "노드 2가 루트일 때 서브트리 합 : 52\n",
      "노드 3가 루트일 때 서브트리 합 : 71\n",
      "노드 4가 루트일 때 서브트리 합 : 81\n",
      "노드 5가 루트일 때 서브트리 합 : 83\n",
      "노드 6가 루트일 때 서브트리 합 : 83\n"
     ]
    }
   ],
   "source": [
    "from collections import deque\n",
    "\n",
    "# 루트 이동 : 2번의 DFS (1: 초기 상태 계산, 2: 상태 재귀 갱신)\n",
    "def subtree_value_sum(tree, value, size, root=0):\n",
    "  sub_weight = [0 for _ in range(size)]\n",
    "  parent = [-1 for _ in range(size)]\n",
    "\n",
    "  order = []\n",
    "  stack = [root]\n",
    "\n",
    "  # DFS : post-order 탐색으로 부모 및 순서 기록\n",
    "  while stack:\n",
    "    node = stack.pop()\n",
    "    order.append(node)\n",
    "    for next in tree[node]:\n",
    "      if next == parent[node]:\n",
    "        continue\n",
    "      parent[next] = node\n",
    "      stack.append(next)\n",
    "\n",
    "  # post-order의 역순 순회로 자식 → 부모 방향으로 서브트리 크기 누적\n",
    "  for node in reversed(order):\n",
    "    sub_weight[node] = value[node]\n",
    "    for next in tree[node]:\n",
    "      if next == parent[node]:\n",
    "        continue\n",
    "      sub_weight[node] += sub_weight[next]\n",
    "\n",
    "  total_sub_weight = sub_weight[root]\n",
    "  weight = [0 for _ in range(size)]\n",
    "  weight[root] = total_sub_weight\n",
    "\n",
    "  # BFS : pre-order 탐색으로 부모 → 자식 방향으로 루트 이동 시 서브트리 크기 계산\n",
    "  queue = deque([root])\n",
    "  while queue:\n",
    "    node = queue.popleft()\n",
    "    for next in tree[node]:\n",
    "      if next == parent[node]:\n",
    "        continue\n",
    "      # root == node에서 root == next로 변경된 상황\n",
    "      # weight[node]에는 sub_weight[next]가 포함되어 있으므로 1번 제거\n",
    "      # total_sub_weight에는 weight[next]가 포함되어 있으므로 1번 제거\n",
    "      weight[next] = (weight[node] - sub_weight[next]) + (total_sub_weight - sub_weight[next])\n",
    "      queue.append(next)\n",
    "\n",
    "  return weight\n",
    "\n",
    "\n",
    "weights = subtree_value_sum(tree, value, size)\n",
    "for i in range(size):\n",
    "  print(f\"노드 {i}가 루트일 때 서브트리 합 : {weights[i]}\")"
   ]
  }
 ],
 "metadata": {
  "kernelspec": {
   "display_name": "Python 3",
   "language": "python",
   "name": "python3"
  },
  "language_info": {
   "codemirror_mode": {
    "name": "ipython",
    "version": 3
   },
   "file_extension": ".py",
   "mimetype": "text/x-python",
   "name": "python",
   "nbconvert_exporter": "python",
   "pygments_lexer": "ipython3",
   "version": "3.12.9"
  }
 },
 "nbformat": 4,
 "nbformat_minor": 5
}
