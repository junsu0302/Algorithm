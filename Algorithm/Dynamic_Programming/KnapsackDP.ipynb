{
 "cells": [
  {
   "cell_type": "markdown",
   "id": "26a2f7d6",
   "metadata": {},
   "source": [
    "# knapsack_dp.py 내부 구조 예시\n",
    "\n",
    "1. 0-1 Knapsack : 각 물건을 최대 1번 사용\n",
    "2. Unbounded Knapsack : 각 물건을 무한히 사용 가능\n",
    "3. Subset Sum : 주어진 합으로 특정 목표 만들기\n",
    "4. 정량차 문제 (무게 차이 최소화) : 두 지합 간 차이 최소화\n",
    "5. Target Sum : 특정 합을 정확히 만들 수 있는가\n",
    "6. Multi-dimensional Knapsack : 복수 기준 고려"
   ]
  },
  {
   "cell_type": "markdown",
   "id": "d3624d66",
   "metadata": {},
   "source": []
  }
 ],
 "metadata": {
  "language_info": {
   "name": "python"
  }
 },
 "nbformat": 4,
 "nbformat_minor": 5
}
