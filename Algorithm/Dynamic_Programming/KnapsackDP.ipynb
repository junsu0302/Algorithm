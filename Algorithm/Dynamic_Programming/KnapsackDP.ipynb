{
 "cells": [
  {
   "cell_type": "markdown",
   "id": "26a2f7d6",
   "metadata": {},
   "source": [
    "# DP 냅색 알고리즘\n",
    "\n",
    "제한된 자원에 대해 최대한의 이득을 얻기 위한 조합 최적화 문제이다.\n",
    "\n",
    "한정된 무게(K)만큼 담을 수 있는 배낭에 무게(W), 가치(V)를 가진 물건들을 담는 문제이다. \n",
    "\n",
    "\n",
    "\n",
    "1. 0-1 Knapsack : [무게, 가치]의 물건을 최대 1번 사용하여 최대의 이득을 얻는 문제\n",
    "2. Unbounded Knapsack : 각 물건을 무한히 사용 가능\n",
    "3. Subset Sum : 주어진 합으로 특정 목표 만들기\n",
    "4. 정량차 문제 (무게 차이 최소화) : 두 지합 간 차이 최소화\n",
    "5. Target Sum : 특정 합을 정확히 만들 수 있는가\n",
    "6. Multi-dimensional Knapsack : 복수 기준 고려"
   ]
  },
  {
   "cell_type": "code",
   "execution_count": 1,
   "id": "609f0dd7",
   "metadata": {},
   "outputs": [
    {
     "name": "stdout",
     "output_type": "stream",
     "text": [
      "14\n"
     ]
    }
   ],
   "source": [
    "# [무게, 가치]의 물건을 최대 1번 사용하여 최대의 이득을 얻는 문제\n",
    "\n",
    "num_items = 4 # 물건의 개수\n",
    "limit = 7     # 배낭의 최대 무게\n",
    "items = [     # 각 물건의 (무게, 가치)\n",
    "  (6, 13),\n",
    "  (4, 8),\n",
    "  (3, 6),\n",
    "  (5, 12)\n",
    "]\n",
    "\n",
    "# weight[w] = 무게 w일 때 배낭에 넣을 수 있는 물건들의 최대 가치\n",
    "weight = [0 for _ in range(limit+1)]\n",
    "\n",
    "# 물건을 하나씩 고려하여 weight 배열 갱신\n",
    "for base, value in items:\n",
    "  # 역순으로 순회해야 중복 선택을 방지할 수 있음 (0-1 Knapsack 핵심)\n",
    "  for curr in range(limit, base-1, -1):\n",
    "    # weight[curr] : 현재 물건을 선택하지 않은 경우\n",
    "    # weight[curr - base] + value : 현재 물건을 선택한 경우\n",
    "    weight[curr] = max(\n",
    "      weight[curr], \n",
    "      weight[curr - base] + value)\n",
    "\n",
    "print(weight[limit])\n"
   ]
  }
 ],
 "metadata": {
  "kernelspec": {
   "display_name": "Python 3",
   "language": "python",
   "name": "python3"
  },
  "language_info": {
   "codemirror_mode": {
    "name": "ipython",
    "version": 3
   },
   "file_extension": ".py",
   "mimetype": "text/x-python",
   "name": "python",
   "nbconvert_exporter": "python",
   "pygments_lexer": "ipython3",
   "version": "3.12.9"
  }
 },
 "nbformat": 4,
 "nbformat_minor": 5
}
