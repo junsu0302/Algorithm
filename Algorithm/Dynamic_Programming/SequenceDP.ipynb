{
 "cells": [
  {
   "cell_type": "markdown",
   "id": "cce97143",
   "metadata": {},
   "source": [
    "# 순서 DP\n",
    "\n",
    "입력의 순서를 유지하면서 부분 구조를 찾는 DP 유형이다. 주로 수열 or 문자열에서 정의된 부분 구조 탐색 문제에서 활용된다.\n",
    "\n",
    "- LIS (부분 수열 중 가장 긴 수열 탐색)\n",
    "- LCS (두 문자열에서 공통된 최대 부분 수열 탐색)"
   ]
  },
  {
   "cell_type": "code",
   "execution_count": 1,
   "id": "bbfd7b82",
   "metadata": {},
   "outputs": [
    {
     "name": "stdout",
     "output_type": "stream",
     "text": [
      "LIS length : 4\n",
      "[10, 20, 30, 50]\n"
     ]
    }
   ],
   "source": [
    "# LIS\n",
    "def LIS(arr):\n",
    "  size = len(arr)\n",
    "\n",
    "  # 각 위치의 LIS 길이 초기화 (자기 자신 포함 최소 길이 1)\n",
    "  LIS = [1 for _ in range(size)]\n",
    "  # i 번째 원소의 LIS 경로상 바로 이전 인덱스 저장\n",
    "  prev = [-1 for _ in range(size)]\n",
    "\n",
    "  # DP : 이전 원소들을 모두 확인하며 LIS 길이 갱신\n",
    "  for base in range(size):\n",
    "    for curr in range(base):\n",
    "      # arr[curr] < arr[base] : 증가 조건 (증가 수열에 포함 가능)\n",
    "      # LIS[base] < LIS[curr]+1 : 최적화 조건 (더 긴 증가 수열을 찾은 경우)\n",
    "      if arr[curr] < arr[base] and LIS[base] <= LIS[curr]:\n",
    "        LIS[base] = LIS[curr] + 1\n",
    "        prev[base] = curr\n",
    "  \n",
    "  # 최장 LIS 길이 및 끝 인덱스\n",
    "  max_length = max(LIS)\n",
    "  idx = LIS.index(max_length)\n",
    "\n",
    "  # prev 역추적으로 경로 복원\n",
    "  path = []\n",
    "  while idx != -1:\n",
    "    path.append(arr[idx])\n",
    "    idx = prev[idx]\n",
    "  path.reverse()\n",
    "\n",
    "  return max_length, path\n",
    "\n",
    "max_length, path = LIS([10, 20, 10, 30, 20, 50])\n",
    "print(f'LIS length : {max_length}')\n",
    "print(path)"
   ]
  },
  {
   "cell_type": "code",
   "execution_count": 2,
   "id": "7544daa3",
   "metadata": {},
   "outputs": [
    {
     "name": "stdout",
     "output_type": "stream",
     "text": [
      "LIS length(+Binary Search) : 5\n",
      "[10, 20, 30, 50]\n"
     ]
    }
   ],
   "source": [
    "# LIS를 길이 중심으로 관리하되, 같은 길이에서는 더 작은 값을 유지\n",
    "from bisect import bisect_left\n",
    "\n",
    "def LIS(arr):\n",
    "  size = len(arr)\n",
    "\n",
    "  # 길이 i+1 증가 수열 중, 마지막 인덱스 저장\n",
    "  LIS = []\n",
    "  # LIS[i]의 바로 이전 인덱스 저장\n",
    "  prev = [-1 for _ in range(size)]\n",
    "\n",
    "  for pos in range(size):\n",
    "    val = arr[pos]\n",
    "\n",
    "    # 현재 값의 LIS에서 위치 탐색 (이진 탐색) \n",
    "    insert_pos = bisect_left([arr[i] for i in LIS], val)\n",
    "\n",
    "    # 기존 LIS보다 크다면 LIS 확장, 아니면 기존 LIS 위치에 삽입 (작은 값으로 변경)\n",
    "    if insert_pos == len(LIS):\n",
    "      LIS.append(pos)\n",
    "    else:\n",
    "      LIS[insert_pos] = pos\n",
    "\n",
    "    # LIS의 길이가 1을 넘은 경우만 경로 복원용 prev 연산 수행\n",
    "    if insert_pos > 0:\n",
    "      prev[pos] = LIS[insert_pos - 1]\n",
    "\n",
    "  max_length = max(LIS)\n",
    "  \n",
    "  # prev 역추적으로 경로 복원\n",
    "  idx = LIS[-1]\n",
    "  path = []\n",
    "  while idx != -1:\n",
    "    path.append(arr[idx])\n",
    "    idx = prev[idx]\n",
    "  path.reverse()\n",
    "\n",
    "  return max_length, path\n",
    "\n",
    "max_length, path = LIS([10, 20, 10, 30, 20, 50])\n",
    "print(f'LIS length(+Binary Search) : {max_length}')\n",
    "print(path)"
   ]
  },
  {
   "cell_type": "code",
   "execution_count": 3,
   "id": "f7116dec",
   "metadata": {},
   "outputs": [
    {
     "name": "stdout",
     "output_type": "stream",
     "text": [
      "LCS length : 4\n",
      "['A', 'C', 'A', 'K']\n"
     ]
    }
   ],
   "source": [
    "# LCS\n",
    "\n",
    "# 방향 상수 (↖, ↑, ←)\n",
    "DIAGONAL, UP, LEFT = 0, 1, 2\n",
    "\n",
    "def LCS(s1, s2):\n",
    "  size1, size2 = len(s1), len(s2)\n",
    "\n",
    "  # LCS[r][c] : s1의 처음 i개 문자와 s2d의 처음 j개 문자로 만든 LCS 길이\n",
    "  LCS = [[0 for _ in range(size2+1)] for _ in range(size1+1)]\n",
    "  # from_dir[r][c] : 해당 위치가 어떤 선택에서 왔는지 기록 : \n",
    "  # 0 = DIAGONAL ↖ | s1[r-1] == s2[c-1]인 경우 (문자가 같아 증가)\n",
    "  # 1 = UP       ↑ | s1[r-1]에서만 LCS를 가져온 경우 (s2 문자 무시)\n",
    "  # 2 = LEFT     ← | s2[c-1]에서만 LCS를 가져온 경우 (s1 문자 무시)\n",
    "  from_dir = [[-1 for _ in range(size2+1)] for _ in range(size1+1)]\n",
    "\n",
    "  # DP : 각 문자 쌍을 비교하여 LCS 길이 갱신\n",
    "  for r in range(size1):\n",
    "    for c in range(size2):\n",
    "      if s1[r] == s2[c]: # 두 문자열 모두에서 문자를 사용하므로, LCS[r][c] + 1\n",
    "        LCS[r+1][c+1] = LCS[r][c] + 1\n",
    "        from_dir[r+1][c+1] = DIAGONAL\n",
    "      else:              # 둘 중 긴 LCS 경로를 선택하고, 해당 방향을 기록\n",
    "        if LCS[r][c+1] >= LCS[r+1][c]:\n",
    "          LCS[r+1][c+1] = LCS[r][c+1]\n",
    "          from_dir[r+1][c+1] = UP\n",
    "        else:\n",
    "          LCS[r+1][c+1] = LCS[r+1][c]\n",
    "          from_dir[r+1][c+1] = LEFT\n",
    "\n",
    "\n",
    "  # 경로 복원\n",
    "  r, c = size1, size2\n",
    "  path = []\n",
    "  while r > 0 and c > 0:\n",
    "    direction = from_dir[r][c]\n",
    "    if direction == DIAGONAL:\n",
    "      path.append(s1[r-1])\n",
    "      r -= 1\n",
    "      c -= 1\n",
    "    elif direction == UP:\n",
    "      r -= 1\n",
    "    elif direction == LEFT:\n",
    "      c -= 1\n",
    "\n",
    "  path.reverse()\n",
    "\n",
    "  return LCS[size1][size2], path\n",
    "\n",
    "max_length, path = LCS(\"ACAYKP\", \"CAPCAK\")\n",
    "print(f'LCS length : {max_length}')\n",
    "print(path)"
   ]
  }
 ],
 "metadata": {
  "kernelspec": {
   "display_name": "Python 3",
   "language": "python",
   "name": "python3"
  },
  "language_info": {
   "codemirror_mode": {
    "name": "ipython",
    "version": 3
   },
   "file_extension": ".py",
   "mimetype": "text/x-python",
   "name": "python",
   "nbconvert_exporter": "python",
   "pygments_lexer": "ipython3",
   "version": "3.12.9"
  }
 },
 "nbformat": 4,
 "nbformat_minor": 5
}
