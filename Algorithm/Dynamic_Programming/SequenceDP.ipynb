{
 "cells": [
  {
   "cell_type": "markdown",
   "id": "cce97143",
   "metadata": {},
   "source": [
    "# 순서 DP\n",
    "\n",
    "입력의 순서를 유지하면서 부분 구조를 찾는 DP 유형이다. 주로 수열 or 문자열에서 정의된 부분 구조 탐색 문제에서 활용된다.\n",
    "\n",
    "- LIS (부분 수열 중 가장 긴 수열 탐색)\n",
    "- LCS (두 문자열에서 공통된 최대 부분 수열 탐색)"
   ]
  },
  {
   "cell_type": "code",
   "execution_count": 13,
   "id": "bbfd7b82",
   "metadata": {},
   "outputs": [
    {
     "name": "stdout",
     "output_type": "stream",
     "text": [
      "4\n"
     ]
    }
   ],
   "source": [
    "# LIS\n",
    "def LIS(arr):\n",
    "  n = len(arr)\n",
    "  memo = [1] * n\n",
    "  for i in range(n):\n",
    "    for j in range(i):\n",
    "      if arr[j] < arr[i]:\n",
    "        memo[i] = max(memo[i], memo[j]+1)\n",
    "  \n",
    "  return max(memo)\n",
    "\n",
    "print(LIS([10, 20, 10, 30, 20, 50]))"
   ]
  },
  {
   "cell_type": "code",
   "execution_count": 15,
   "id": "f7116dec",
   "metadata": {},
   "outputs": [
    {
     "name": "stdout",
     "output_type": "stream",
     "text": [
      "4\n"
     ]
    }
   ],
   "source": [
    "# LCS\n",
    "def LCS(s1, s2):\n",
    "  n, m = len(s1), len(s2)\n",
    "  memo = [[0]*(m+1) for _ in range(n+1)]\n",
    "  for i in range(n):\n",
    "    for j in range(m):\n",
    "      if s1[i] == s2[j]:\n",
    "        memo[i+1][j+1] = memo[i][j] + 1\n",
    "      else:\n",
    "        memo[i+1][j+1] = max(memo[i+1][j], memo[i][j+1])\n",
    "\n",
    "  return memo[n][m]\n",
    "\n",
    "print(LCS(\"ACAYKP\", \"CAPCAK\"))"
   ]
  }
 ],
 "metadata": {
  "kernelspec": {
   "display_name": "Python 3",
   "language": "python",
   "name": "python3"
  },
  "language_info": {
   "codemirror_mode": {
    "name": "ipython",
    "version": 3
   },
   "file_extension": ".py",
   "mimetype": "text/x-python",
   "name": "python",
   "nbconvert_exporter": "python",
   "pygments_lexer": "ipython3",
   "version": "3.12.9"
  }
 },
 "nbformat": 4,
 "nbformat_minor": 5
}
