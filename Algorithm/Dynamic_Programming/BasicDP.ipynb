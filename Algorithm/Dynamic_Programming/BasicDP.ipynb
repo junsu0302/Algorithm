{
 "cells": [
  {
   "cell_type": "markdown",
   "id": "f92ce56b",
   "metadata": {},
   "source": [
    "# 기본 DP\n",
    "\n",
    "복잡한 문제를 작은 부분 문제들로 나누고, 그 결과를 기억(Memoization) 해 두었다가, 중복 계산을 피함으로써 전체 문제를 효율적으로 푸는 방법론이다.\n",
    "\n",
    "*재귀(분할) + 캐싱(기억)*\n",
    "\n",
    "- 경우의 수 누적\n",
    "- 누적합 최대/최소\n",
    "- 조건 분기 (다차원 DP)"
   ]
  },
  {
   "cell_type": "code",
   "execution_count": 1,
   "id": "6139b56d",
   "metadata": {},
   "outputs": [
    {
     "name": "stdout",
     "output_type": "stream",
     "text": [
      "8\n"
     ]
    }
   ],
   "source": [
    "# 경우의 수 누적 (계단 오르기)\n",
    "def count_ways(n):\n",
    "  memo = [0 for _ in range(n+2)]\n",
    "  memo[0], memo[1] = 1, 1\n",
    "  for i in range(2, n+1):\n",
    "    memo[i] = memo[i-1] + memo[i-2]\n",
    "  return memo[n]\n",
    "\n",
    "print(count_ways(5))"
   ]
  },
  {
   "cell_type": "code",
   "execution_count": 2,
   "id": "2c31909d",
   "metadata": {},
   "outputs": [
    {
     "name": "stdout",
     "output_type": "stream",
     "text": [
      "11\n"
     ]
    }
   ],
   "source": [
    "# 최대 연속 부분합\n",
    "def max_subarray(nums):\n",
    "  memo = [0 for _ in range(len(nums))]\n",
    "  memo[0] = nums[0]\n",
    "  for i in range(1, len(nums)):\n",
    "    memo[i] = max(nums[i], memo[i-1] + nums[i])\n",
    "  return max(memo)\n",
    "\n",
    "print(max_subarray([5, -1, 6, -3, 4]))"
   ]
  },
  {
   "cell_type": "code",
   "execution_count": 3,
   "id": "839ac3d0",
   "metadata": {},
   "outputs": [
    {
     "name": "stdout",
     "output_type": "stream",
     "text": [
      "96\n"
     ]
    }
   ],
   "source": [
    "# 조건 분기 (다차원 DP)\n",
    "def rgb_distance(costs):\n",
    "  n = len(costs)\n",
    "  memo = [[0]*3 for _ in range(n)]\n",
    "  memo[0] = costs[0]\n",
    "\n",
    "  for i in range(1, n):\n",
    "    memo[i][0] = min(memo[i-1][1], memo[i-1][2]) + costs[i][0]\n",
    "    memo[i][1] = min(memo[i-1][0], memo[i-1][2]) + costs[i][1]\n",
    "    memo[i][2] = min(memo[i-1][0], memo[i-1][1]) + costs[i][2]\n",
    "\n",
    "  return min(memo[-1])\n",
    "\n",
    "print(rgb_distance([[26, 40, 83], [49, 60, 57], [13, 89, 99]]))\n"
   ]
  }
 ],
 "metadata": {
  "kernelspec": {
   "display_name": "Python 3",
   "language": "python",
   "name": "python3"
  },
  "language_info": {
   "codemirror_mode": {
    "name": "ipython",
    "version": 3
   },
   "file_extension": ".py",
   "mimetype": "text/x-python",
   "name": "python",
   "nbconvert_exporter": "python",
   "pygments_lexer": "ipython3",
   "version": "3.12.9"
  }
 },
 "nbformat": 4,
 "nbformat_minor": 5
}
